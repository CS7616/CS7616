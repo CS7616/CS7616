{
 "cells": [
  {
   "cell_type": "code",
   "execution_count": 1,
   "metadata": {
    "collapsed": true
   },
   "outputs": [],
   "source": [
    "# Imports\n",
    "import numpy as np\n",
    "from sklearn import preprocessing\n"
   ]
  },
  {
   "cell_type": "markdown",
   "metadata": {},
   "source": [
    "# Preprocessing\n"
   ]
  },
  {
   "cell_type": "code",
   "execution_count": 2,
   "metadata": {
    "collapsed": false
   },
   "outputs": [],
   "source": [
    "observedVariable = preprocessing.LabelEncoder();\n",
    "observedVariable.fit(['b','g','y','r']);\n",
    "\n",
    "latentVariable = preprocessing.LabelEncoder();\n",
    "latentVariable.fit(['1:1','1:2','1:3','1:4','2:1','2:2','2:3','2:4','3:1','3:2','3:3','3:4','4:1','4:2','4:3','4:4']);\n"
   ]
  },
  {
   "cell_type": "markdown",
   "metadata": {},
   "source": [
    "# Training"
   ]
  },
  {
   "cell_type": "code",
   "execution_count": 10,
   "metadata": {
    "collapsed": false
   },
   "outputs": [],
   "source": [
    "transitionProbabilities = np.zeros((16,16));\n",
    "emissionProbabilities = np.zeros((16,4));\n",
    "priorProbablities = np.zeros((16));\n",
    "    \n",
    "#Get observation counts\n",
    "with open('../robot_train.data', 'r') as file:\n",
    "    flag = 0;\n",
    "    for line in file:\n",
    "        if (line != '.\\n'):\n",
    "            split = line.strip('\\n').split(\" \")\n",
    "            currentLatentState  =  latentVariable.transform(split[0])\n",
    "            emissionProbabilities[currentLatentState,observedVariable.transform(split[1])] += 1\n",
    "                \n",
    "            if (flag == 1):\n",
    "                transitionProbabilities[currentLatentState, prevLatentState] += 1\n",
    "                transitionProbabilities[prevLatentState, currentLatentState] += 1\n",
    "                    \n",
    "            prevLatentState = currentLatentState;\n",
    "            flag = 1;\n",
    "        \n",
    "        else:\n",
    "            priorProbablities[latentVariable.transform(split[0])] += 1\n",
    "            flag = 0;\n",
    "\n",
    "# Normalize counts\n",
    "priorProbablities /= np.sum(priorProbablities)\n",
    "    \n",
    "for i in range(transitionProbabilities.shape[1]):\n",
    "    sum = np.sum(transitionProbabilities[:,i])\n",
    "    if (sum != 0):\n",
    "        transitionProbabilities[:,i] /= sum\n",
    "\n",
    "for i in range(emissionProbabilities.shape[0]):\n",
    "    sum = np.sum(emissionProbabilities[i,:])\n",
    "    if (sum != 0):\n",
    "        emissionProbabilities[i,:] /= sum\n",
    "\n"
   ]
  },
  {
   "cell_type": "markdown",
   "metadata": {},
   "source": [
    "# Viterbi"
   ]
  },
  {
   "cell_type": "code",
   "execution_count": 18,
   "metadata": {
    "collapsed": true
   },
   "outputs": [],
   "source": [
    "def Viterbi(sequence):\n",
    "    \n",
    "        m = transitionProbabilities.shape[0]\n",
    "        n = sequence.shape[0]\n",
    "    \n",
    "        P = np.zeros((m,n))\n",
    "        S = np.zeros((m,n))\n",
    "        x = np.zeros((n))\n",
    "    \n",
    "        P[:,0] = priorProbablities * emissionProbabilities[:,sequence[0]]\n",
    "        \n",
    "        for i in range(1,n):\n",
    "            P[:,i] = np.max(P[:,i-1, None].dot(emissionProbabilities[:,sequence[i],None].T)*transitionProbabilities, axis=0)\n",
    "            S[:,i] = np.argmax(np.tile(P[:,i-1, None],m)*transitionProbabilities, axis=0)\n",
    "\n",
    "        x = [P[:,-1].argmax()]\n",
    "        for i in range(n-1, 0, -1):\n",
    "            x.append(S[x[-1],i])\n",
    "\n",
    "        return np.array(x[::-1])\n"
   ]
  },
  {
   "cell_type": "markdown",
   "metadata": {},
   "source": [
    "# Testing"
   ]
  },
  {
   "cell_type": "code",
   "execution_count": 19,
   "metadata": {
    "collapsed": false
   },
   "outputs": [
    {
     "name": "stdout",
     "output_type": "stream",
     "text": [
      "81.29\n"
     ]
    },
    {
     "name": "stderr",
     "output_type": "stream",
     "text": [
      "/home/siddharth/anaconda2/lib/python2.7/site-packages/ipykernel/__main__.py:18: DeprecationWarning: using a non-integer number instead of an integer will result in an error in the future\n"
     ]
    }
   ],
   "source": [
    "average=0;\n",
    "count=0;\n",
    "with open('../robot_test.data', 'r') as file:\n",
    "    sequence = []\n",
    "    labels   = []\n",
    "    for line in file:\n",
    "        if (line != '.\\n'):\n",
    "            temp = line.strip('\\n').split(\" \")\n",
    "            sequence.append(temp[1])\n",
    "            labels.append(temp[0])\n",
    "        else:\n",
    "            sequence = observedVariable.transform(sequence)\n",
    "            labels = latentVariable.transform(labels)\n",
    "            predicted = Viterbi(sequence)\n",
    "            accuracy = np.average(labels == predicted) * 100;            \n",
    "            average = average + accuracy;\n",
    "            count = count + 1;           \n",
    "            sequence = []\n",
    "            labels = []\n",
    "            \n",
    "print average/count;\n",
    "\n"
   ]
  },
  {
   "cell_type": "code",
   "execution_count": null,
   "metadata": {
    "collapsed": true
   },
   "outputs": [],
   "source": []
  }
 ],
 "metadata": {
  "kernelspec": {
   "display_name": "Python 2",
   "language": "python",
   "name": "python2"
  },
  "language_info": {
   "codemirror_mode": {
    "name": "ipython",
    "version": 2
   },
   "file_extension": ".py",
   "mimetype": "text/x-python",
   "name": "python",
   "nbconvert_exporter": "python",
   "pygments_lexer": "ipython2",
   "version": "2.7.11"
  }
 },
 "nbformat": 4,
 "nbformat_minor": 0
}
