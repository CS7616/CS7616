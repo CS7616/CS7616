{
 "cells": [
  {
   "cell_type": "code",
   "execution_count": 1,
   "metadata": {
    "collapsed": false,
    "hideCode": false,
    "slideshow": {
     "slide_type": "skip"
    }
   },
   "outputs": [],
   "source": [
    "# Configure Live Reveal Slides\n",
    "from notebook.services.config import ConfigManager\n",
    "cm = ConfigManager()\n",
    "_ = cm.update('livereveal', {\n",
    "        'theme': 'serif',\n",
    "        'transition': 'fade',\n",
    "        'start_slideshow_at': 'selected',\n",
    "        'slideNumber' : 'True',\n",
    "        'progress' : 'True',\n",
    "        'width': 1920,\n",
    "        'height': 1080,\n",
    "})"
   ]
  },
  {
   "cell_type": "markdown",
   "metadata": {
    "collapsed": true,
    "slideshow": {
     "slide_type": "slide"
    }
   },
   "source": [
    "# LDA\n",
    "## [Linear Discriminant Analysis](https://en.wikipedia.org/wiki/Linear_discriminant_analysis)"
   ]
  },
  {
   "cell_type": "markdown",
   "metadata": {
    "slideshow": {
     "slide_type": "slide"
    }
   },
   "source": [
    "### [Wine Dataset](https://archive.ics.uci.edu/ml/datasets/Wine)\n",
    "Lets take a look at the wine dataset first"
   ]
  },
  {
   "cell_type": "code",
   "execution_count": 4,
   "metadata": {
    "collapsed": true
   },
   "outputs": [],
   "source": [
    "import pandas as pd\n",
    "import numpy as np\n",
    "import warnings\n",
    "warnings.filterwarnings('ignore')\n",
    "%matplotlib inline"
   ]
  },
  {
   "cell_type": "code",
   "execution_count": 5,
   "metadata": {
    "collapsed": false
   },
   "outputs": [],
   "source": [
    "names = ['Class', 'Alcohol', 'Malic Acid', 'Ash', 'Ash Alcalinity', 'Magnesium', 'Total Phenols', \\\n",
    "           'Flavanoids', 'Nonflavanoid Phenols', 'Proanthocyanins', 'Color Intensity', 'Hue', \\\n",
    "           'Dilution', 'Proline']\n",
    "wine_path = 'wine.data'\n",
    "wine_df = pd.read_csv(wine_path, names=names)\n",
    "\n",
    "X = wine_df.drop('Class',axis=1).values\n",
    "y = wine_df['Class'].values\n",
    "label_dict = {1: 'Class 1', 2: 'Class 2', 3:'Class 3'}"
   ]
  },
  {
   "cell_type": "markdown",
   "metadata": {
    "slideshow": {
     "slide_type": "subslide"
    }
   },
   "source": [
    "Its got 3 classes, 13 features"
   ]
  },
  {
   "cell_type": "markdown",
   "metadata": {
    "slideshow": {
     "slide_type": "slide"
    }
   },
   "source": [
    "## LDA approach in 5 steps"
   ]
  },
  {
   "cell_type": "markdown",
   "metadata": {
    "slideshow": {
     "slide_type": "subslide"
    }
   },
   "source": [
    "Listed below are the 5 general steps for performing a linear discriminant analysis; we will explore them in more detail in the following sections.\n",
    "\n",
    "1. Compute the $d$-dimensional mean vectors for the different classes from the dataset.\n",
    "2. Compute the scatter matrices (in-between-class and within-class scatter matrix).\n",
    "3. Compute the eigenvectors ($\\pmb e_1, \\; \\pmb e_2, \\; ..., \\; \\pmb e_d$) and corresponding eigenvalues ($\\pmb \\lambda_1, \\; \\pmb \\lambda_2, \\; ..., \\; \\pmb \\lambda_d$) for the scatter matrices.\n",
    "4. Sort the eigenvectors by decreasing eigenvalues and choose $k$ eigenvectors with the largest eigenvalues to form a $k \\times d$ dimensional matrix $\\pmb W\\;$ (where every column represents an eigenvector).\n",
    "5. Use this $k \\times d$ eigenvector matrix to transform the samples onto the new subspace. This can be summarized by the mathematical equation: $\\pmb Y = \\pmb X \\times \\pmb W$ (where $\\pmb X$ is a $n \\times d$-dimensional matrix representing the $n$ samples, and $\\pmb y$ are the transformed $n \\times k$-dimensional samples in the new subspace)."
   ]
  },
  {
   "cell_type": "markdown",
   "metadata": {
    "slideshow": {
     "slide_type": "slide"
    }
   },
   "source": [
    "##  Step 1: Computing the Mean"
   ]
  },
  {
   "cell_type": "code",
   "execution_count": 6,
   "metadata": {
    "collapsed": false,
    "slideshow": {
     "slide_type": "skip"
    }
   },
   "outputs": [
    {
     "name": "stdout",
     "output_type": "stream",
     "text": [
      "Mean Vector class 1: [  1.3745e+01   2.0107e+00   2.4556e+00   1.7037e+01   1.0634e+02\n",
      "   2.8402e+00   2.9824e+00   2.9000e-01   1.8993e+00   5.5283e+00\n",
      "   1.0620e+00   3.1578e+00   1.1157e+03]\n",
      "\n",
      "Mean Vector class 2: [  1.2279e+01   1.9327e+00   2.2448e+00   2.0238e+01   9.4549e+01\n",
      "   2.2589e+00   2.0808e+00   3.6366e-01   1.6303e+00   3.0866e+00\n",
      "   1.0563e+00   2.7854e+00   5.1951e+02]\n",
      "\n"
     ]
    }
   ],
   "source": [
    "np.set_printoptions(precision=4)\n",
    "\n",
    "\n",
    "mean_vectors = []\n",
    "for cl in range(1,3):\n",
    "    mean_vectors.append(np.mean(X[y==cl], axis=0))\n",
    "    print('Mean Vector class %s: %s\\n' %(cl, mean_vectors[cl-1]))"
   ]
  },
  {
   "cell_type": "markdown",
   "metadata": {
    "slideshow": {
     "slide_type": "slide"
    }
   },
   "source": [
    "##  Step 2: Computing the Scatter Matrices"
   ]
  },
  {
   "cell_type": "markdown",
   "metadata": {
    "slideshow": {
     "slide_type": "subslide"
    }
   },
   "source": [
    "Now, we will compute the two *4x4*-dimensional matrices: The within-class and the between-class scatter matrix."
   ]
  },
  {
   "cell_type": "markdown",
   "metadata": {
    "slideshow": {
     "slide_type": "subslide"
    }
   },
   "source": [
    "### 2.1 Within-class scatter matrix $S_W$"
   ]
  },
  {
   "cell_type": "markdown",
   "metadata": {},
   "source": [
    "The **within-class scatter** matrix $S_W$ is computed by the following equation:  \n",
    "\n",
    "$S_W = \\sum\\limits_{i=1}^{c}  S_i$\n",
    "\n",
    "where  \n",
    "$S_i = \\sum\\limits_{\\pmb x \\in D_i}^n (\\pmb x - \\pmb m_i)\\;(\\pmb x - \\pmb m_i)^T$  \n",
    "(scatter matrix for every class) \n",
    "\n",
    "and $\\pmb m_i$ is the mean vector    \n",
    "$\\pmb m_i = \\frac{1}{n_i} \\sum\\limits_{\\pmb x \\in D_i}^n \\; \\pmb x_k$"
   ]
  },
  {
   "cell_type": "code",
   "execution_count": 7,
   "metadata": {
    "collapsed": false,
    "slideshow": {
     "slide_type": "subslide"
    }
   },
   "outputs": [
    {
     "name": "stdout",
     "output_type": "stream",
     "text": [
      "('within-class Scatter Matrix:\\n', array([[  1.2386e+01,  -7.4769e-01,  -9.0477e-01,  -2.1728e+01,\n",
      "          4.4845e+01,   3.8221e+00,   4.4204e+00,   2.9400e-02,\n",
      "          3.3974e+00,   1.3554e+01,   2.4983e-01,   6.6822e-01,\n",
      "          2.1413e+03],\n",
      "       [ -7.4769e-01,   2.7498e+01,   2.3788e-01,   6.1045e+00,\n",
      "          3.3256e+01,  -1.1305e+00,  -3.0364e+00,  -2.5000e-01,\n",
      "         -1.3298e+00,  -1.2741e+01,  -1.9537e+00,   2.4705e+00,\n",
      "         -3.2965e+03],\n",
      "       [ -9.0477e-01,   2.3788e-01,   2.9931e+00,   1.8430e+01,\n",
      "          5.2918e+01,   2.1444e-02,  -3.6898e-01,   4.3000e-01,\n",
      "         -7.8988e-01,  -2.0271e+00,   3.6713e-01,  -3.8387e-01,\n",
      "         -8.6175e+01],\n",
      "       [ -2.1728e+01,   6.1045e+00,   1.8430e+01,   3.7606e+02,\n",
      "          3.6955e+02,  -1.1163e+01,  -1.6854e+01,   3.1270e+00,\n",
      "         -1.0568e+01,  -3.8587e+01,   1.5995e+00,  -6.2072e+00,\n",
      "         -4.0056e+03],\n",
      "       [  4.4845e+01,   3.3256e+01,   5.2918e+01,   3.6955e+02,\n",
      "          6.3932e+03,   6.3417e+01,   2.9853e+01,   1.0120e+01,\n",
      "         -1.4816e+01,   1.3927e+02,  -7.9007e+00,   2.6234e+01,\n",
      "         -1.9952e+04],\n",
      "       [  3.8221e+00,  -1.1305e+00,   2.1444e-02,  -1.1163e+01,\n",
      "          6.3417e+01,   6.6639e+00,   6.2813e+00,  -2.3400e-02,\n",
      "          3.0269e+00,   1.5830e+01,  -5.1372e-01,   3.7322e-01,\n",
      "          1.2847e+03],\n",
      "       [  4.4204e+00,  -3.0364e+00,  -3.6898e-01,  -1.6854e+01,\n",
      "          2.9853e+01,   6.2813e+00,   9.1641e+00,  -1.4460e-01,\n",
      "          5.2125e+00,   2.1175e+01,   2.1115e-02,  -7.2879e-01,\n",
      "          1.9430e+03],\n",
      "       [  2.9400e-02,  -2.5000e-01,   4.3000e-01,   3.1270e+00,\n",
      "          1.0120e+01,  -2.3400e-02,  -1.4460e-01,   2.8460e-01,\n",
      "         -2.4200e-01,  -7.6720e-01,   1.9490e-01,  -4.6930e-01,\n",
      "         -1.3800e+01],\n",
      "       [  3.3974e+00,  -1.3298e+00,  -7.8988e-01,  -1.0568e+01,\n",
      "         -1.4816e+01,   3.0269e+00,   5.2125e+00,  -2.4200e-01,\n",
      "          9.8504e+00,   1.2573e+01,   2.8938e-01,   2.6512e-02,\n",
      "          7.5275e+02],\n",
      "       [  1.3554e+01,  -1.2741e+01,  -2.0271e+00,  -3.8587e+01,\n",
      "          1.3927e+02,   1.5830e+01,   2.1175e+01,  -7.6720e-01,\n",
      "          1.2573e+01,   8.8976e+01,   2.3620e-01,  -4.7942e+00,\n",
      "          9.3694e+03],\n",
      "       [  2.4983e-01,  -1.9537e+00,   3.6713e-01,   1.5995e+00,\n",
      "         -7.9007e+00,  -5.1372e-01,   2.1115e-02,   1.9490e-01,\n",
      "          2.8938e-01,   2.3620e-01,   7.8696e-01,  -7.4944e-01,\n",
      "          5.2884e+02],\n",
      "       [  6.6822e-01,   2.4705e+00,  -3.8387e-01,  -6.2072e+00,\n",
      "          2.6234e+01,   3.7322e-01,  -7.2879e-01,  -4.6930e-01,\n",
      "          2.6512e-02,  -4.7942e+00,  -7.4944e-01,   7.3952e+00,\n",
      "         -1.5973e+03],\n",
      "       [  2.1413e+03,  -3.2965e+03,  -8.6175e+01,  -4.0056e+03,\n",
      "         -1.9952e+04,   1.2847e+03,   1.9430e+03,  -1.3800e+01,\n",
      "          7.5275e+02,   9.3694e+03,   5.2884e+02,  -1.5973e+03,\n",
      "          2.8461e+06]]))\n"
     ]
    }
   ],
   "source": [
    "S_W = np.zeros((13,13))\n",
    "for cl,mv in zip(range(1,2), mean_vectors):\n",
    "    class_sc_mat = np.zeros((13,13))                  # scatter matrix for every class\n",
    "    for row in X[y == cl]:\n",
    "        row, mv = row.reshape(13,1), mv.reshape(13,1) # make column vectors\n",
    "        class_sc_mat += (row-mv).dot((row-mv).T)\n",
    "    S_W += class_sc_mat                             # sum class scatter matrices\n",
    "print('within-class Scatter Matrix:\\n', S_W)"
   ]
  },
  {
   "cell_type": "markdown",
   "metadata": {
    "slideshow": {
     "slide_type": "subslide"
    }
   },
   "source": [
    "### 2.2 Between-class scatter matrix $S_B$\n"
   ]
  },
  {
   "cell_type": "markdown",
   "metadata": {},
   "source": [
    "The **between-class scatter** matrix $S_B$ is computed by the following equation:  \n",
    "\n",
    "$S_B =  \\sum\\limits_{i=1}^{c} N_{i} (\\pmb m_i - \\pmb m) (\\pmb m_i - \\pmb m)^T$\n",
    "\n",
    "where  \n",
    " $\\pmb m$ is the overall mean, and $\\pmb m_{i}$ and $N_{i}$ are the sample mean and sizes of the respective classes."
   ]
  },
  {
   "cell_type": "code",
   "execution_count": 8,
   "metadata": {
    "collapsed": false,
    "slideshow": {
     "slide_type": "subslide"
    }
   },
   "outputs": [
    {
     "name": "stdout",
     "output_type": "stream",
     "text": [
      "('between-class Scatter Matrix:\\n', array([[  6.9669e+01,   6.3917e+00,   1.0150e+01,  -1.4599e+02,\n",
      "          5.5577e+02,   2.5787e+01,   3.9201e+01,  -3.2473e+00,\n",
      "          1.1522e+01,   1.2169e+02,  -4.7391e-01,   1.5075e+01,\n",
      "          2.7847e+04],\n",
      "       [  6.3917e+00,   1.7827e+01,   1.7773e+00,   2.5925e+01,\n",
      "          2.2048e+01,  -9.4344e+00,  -1.9792e+01,   1.3288e+00,\n",
      "         -7.0550e+00,   4.7469e+01,  -4.8421e+00,  -1.5471e+01,\n",
      "         -5.6963e+02],\n",
      "       [  1.0150e+01,   1.7773e+00,   1.5202e+00,  -1.9338e+01,\n",
      "          7.9548e+01,   3.1778e+00,   4.5633e+00,  -3.9326e-01,\n",
      "          1.2805e+00,   1.9510e+01,  -3.0453e-01,   1.3691e+00,\n",
      "          3.9036e+03],\n",
      "       [ -1.4599e+02,   2.5925e+01,  -1.9338e+01,   3.9557e+02,\n",
      "         -1.2306e+03,  -8.0946e+01,  -1.3548e+02,   1.0514e+01,\n",
      "         -4.2644e+01,  -1.7219e+02,  -9.9506e+00,  -7.0025e+01,\n",
      "         -6.5476e+04],\n",
      "       [  5.5577e+02,   2.2048e+01,   7.9548e+01,  -1.2306e+03,\n",
      "          4.4822e+03,   2.2552e+02,   3.5198e+02,  -2.8635e+01,\n",
      "          1.0553e+02,   9.0982e+02,   4.2745e+00,   1.4855e+02,\n",
      "          2.2739e+05],\n",
      "       [  2.5787e+01,  -9.4344e+00,   3.1778e+00,  -8.0946e+01,\n",
      "          2.2552e+02,   1.7621e+01,   3.0518e+01,  -2.3154e+00,\n",
      "          9.8171e+00,   2.0194e+01,   3.1090e+00,   1.7115e+01,\n",
      "          1.2446e+04],\n",
      "       [  3.9201e+01,  -1.9792e+01,   4.5633e+00,  -1.3548e+02,\n",
      "          3.5198e+02,   3.0518e+01,   5.3785e+01,  -4.0339e+00,\n",
      "          1.7488e+01,   1.9222e+01,   6.2430e+00,   3.1345e+01,\n",
      "          1.9907e+04],\n",
      "       [ -3.2473e+00,   1.3288e+00,  -3.9326e-01,   1.0514e+01,\n",
      "         -2.8635e+01,  -2.3154e+00,  -4.0339e+00,   3.0485e-01,\n",
      "         -1.3025e+00,  -2.2465e+00,  -4.3069e-01,  -2.2929e+00,\n",
      "         -1.5928e+03],\n",
      "       [  1.1522e+01,  -7.0550e+00,   1.2805e+00,  -4.2644e+01,\n",
      "          1.0553e+02,   9.8171e+00,   1.7488e+01,  -1.3025e+00,\n",
      "          5.7225e+00,   3.0439e+00,   2.1795e+00,   1.0423e+01,\n",
      "          6.0756e+03],\n",
      "       [  1.2169e+02,   4.7469e+01,   1.9510e+01,  -1.7219e+02,\n",
      "          9.0982e+02,   2.0194e+01,   1.9222e+01,  -2.2465e+00,\n",
      "          3.0439e+00,   2.8900e+02,  -1.0933e+01,  -9.1583e+00,\n",
      "          4.2060e+04],\n",
      "       [ -4.7391e-01,  -4.8421e+00,  -3.0453e-01,  -9.9506e+00,\n",
      "          4.2745e+00,   3.1090e+00,   6.2430e+00,  -4.3069e-01,\n",
      "          2.1795e+00,  -1.0933e+01,   1.3389e+00,   4.5884e+00,\n",
      "          6.8020e+02],\n",
      "       [  1.5075e+01,  -1.5471e+01,   1.3691e+00,  -7.0025e+01,\n",
      "          1.4855e+02,   1.7115e+01,   3.1345e+01,  -2.2929e+00,\n",
      "          1.0423e+01,  -9.1583e+00,   4.5884e+00,   1.9737e+01,\n",
      "          9.0798e+03],\n",
      "       [  2.7847e+04,  -5.6963e+02,   3.9036e+03,  -6.5476e+04,\n",
      "          2.2739e+05,   1.2446e+04,   1.9907e+04,  -1.5928e+03,\n",
      "          6.0756e+03,   4.2060e+04,   6.8020e+02,   9.0798e+03,\n",
      "          1.1697e+07]]))\n"
     ]
    }
   ],
   "source": [
    "overall_mean = np.mean(X, axis=0)\n",
    "\n",
    "S_B = np.zeros((13,13))\n",
    "for i,mean_vec in enumerate(mean_vectors):  \n",
    "    n = X[y==i+1,:].shape[0]\n",
    "    mean_vec = mean_vec.reshape(13,1) # make column vector\n",
    "    overall_mean = overall_mean.reshape(13,1) # make column vector\n",
    "    S_B += n * (mean_vec - overall_mean).dot((mean_vec - overall_mean).T)\n",
    "    \n",
    "print('between-class Scatter Matrix:\\n', S_B)"
   ]
  },
  {
   "cell_type": "markdown",
   "metadata": {
    "slideshow": {
     "slide_type": "slide"
    }
   },
   "source": [
    "## Step 3: Solving the generalized eigenvalue problem for the matrix $S_{W}^{-1}S_B$"
   ]
  },
  {
   "cell_type": "code",
   "execution_count": 10,
   "metadata": {
    "collapsed": false
   },
   "outputs": [
    {
     "name": "stdout",
     "output_type": "stream",
     "text": [
      "\n",
      "Eigenvector 1: \n",
      "[[ -5.5178e-02]\n",
      " [  3.1206e-03]\n",
      " [ -1.2575e-01]\n",
      " [  3.9878e-03]\n",
      " [  5.0861e-03]\n",
      " [  3.1920e-02]\n",
      " [  4.1967e-01]\n",
      " [ -7.0028e-01]\n",
      " [ -3.4561e-02]\n",
      " [ -1.5102e-01]\n",
      " [  5.2378e-01]\n",
      " [  1.2338e-01]\n",
      " [  3.5312e-04]]\n",
      "Eigenvalue 1: 2.83e+01\n",
      "\n",
      "Eigenvector 2: \n",
      "[[  2.2406e-01]\n",
      " [  3.4697e-02]\n",
      " [  5.0655e-01]\n",
      " [ -2.1474e-02]\n",
      " [  1.7723e-03]\n",
      " [ -3.6466e-01]\n",
      " [  1.0518e-01]\n",
      " [ -2.5237e-01]\n",
      " [ -3.4118e-02]\n",
      " [  4.4911e-02]\n",
      " [ -6.8830e-01]\n",
      " [  8.2842e-02]\n",
      " [  4.2190e-04]]\n",
      "Eigenvalue 2: 1.23e+01\n",
      "\n",
      "Eigenvector 3: \n",
      "[[ 0.2498]\n",
      " [-0.1492]\n",
      " [ 0.0297]\n",
      " [ 0.0398]\n",
      " [-0.0043]\n",
      " [ 0.2048]\n",
      " [ 0.1659]\n",
      " [-0.2307]\n",
      " [-0.1877]\n",
      " [ 0.0824]\n",
      " [ 0.5917]\n",
      " [-0.174 ]\n",
      " [-0.0009]]\n",
      "Eigenvalue 3: 2.68e-15\n",
      "\n",
      "Eigenvector 4: \n",
      "[[ 0.2498]\n",
      " [-0.1492]\n",
      " [ 0.0297]\n",
      " [ 0.0398]\n",
      " [-0.0043]\n",
      " [ 0.2048]\n",
      " [ 0.1659]\n",
      " [-0.2307]\n",
      " [-0.1877]\n",
      " [ 0.0824]\n",
      " [ 0.5917]\n",
      " [-0.174 ]\n",
      " [-0.0009]]\n",
      "Eigenvalue 4: 2.68e-15\n",
      "\n",
      "Eigenvector 5: \n",
      "[[ 0.3683]\n",
      " [-0.1561]\n",
      " [ 0.0241]\n",
      " [ 0.0501]\n",
      " [ 0.0019]\n",
      " [ 0.5136]\n",
      " [-0.1162]\n",
      " [-0.5911]\n",
      " [-0.1071]\n",
      " [-0.0117]\n",
      " [ 0.3818]\n",
      " [-0.2298]\n",
      " [-0.0008]]\n",
      "Eigenvalue 5: 3.14e-15\n",
      "\n",
      "Eigenvector 6: \n",
      "[[ -7.9550e-02]\n",
      " [  5.5468e-02]\n",
      " [ -2.8295e-01]\n",
      " [  1.4700e-02]\n",
      " [  7.5005e-03]\n",
      " [ -2.3433e-02]\n",
      " [  2.7232e-01]\n",
      " [ -5.5279e-02]\n",
      " [  5.5738e-02]\n",
      " [ -9.0012e-03]\n",
      " [ -7.4796e-01]\n",
      " [ -1.2087e-01]\n",
      " [ -8.2341e-05]]\n",
      "Eigenvalue 6: -1.68e-15\n",
      "\n",
      "Eigenvector 7: \n",
      "[[ -7.9550e-02]\n",
      " [  5.5468e-02]\n",
      " [ -2.8295e-01]\n",
      " [  1.4700e-02]\n",
      " [  7.5005e-03]\n",
      " [ -2.3433e-02]\n",
      " [  2.7232e-01]\n",
      " [ -5.5279e-02]\n",
      " [  5.5738e-02]\n",
      " [ -9.0012e-03]\n",
      " [ -7.4796e-01]\n",
      " [ -1.2087e-01]\n",
      " [ -8.2341e-05]]\n",
      "Eigenvalue 7: -1.68e-15\n",
      "\n",
      "Eigenvector 8: \n",
      "[[  2.0725e-01]\n",
      " [ -1.1802e-01]\n",
      " [ -3.7168e-01]\n",
      " [ -1.0824e-01]\n",
      " [ -2.4011e-02]\n",
      " [  3.9299e-01]\n",
      " [ -2.5537e-01]\n",
      " [  1.0433e-01]\n",
      " [ -1.3288e-01]\n",
      " [ -3.4013e-02]\n",
      " [  5.9008e-01]\n",
      " [ -4.4174e-01]\n",
      " [  1.6348e-05]]\n",
      "Eigenvalue 8: -1.22e-15\n",
      "\n",
      "Eigenvector 9: \n",
      "[[  2.8837e-02]\n",
      " [ -3.2866e-03]\n",
      " [ -1.4123e-01]\n",
      " [  3.2099e-03]\n",
      " [ -3.6563e-04]\n",
      " [  7.2145e-02]\n",
      " [  2.9026e-02]\n",
      " [  9.2285e-01]\n",
      " [ -8.9632e-03]\n",
      " [ -2.5063e-02]\n",
      " [ -9.5710e-02]\n",
      " [ -5.3282e-02]\n",
      " [  1.4460e-04]]\n",
      "Eigenvalue 9: -3.47e-16\n",
      "\n",
      "Eigenvector 10: \n",
      "[[  2.8837e-02]\n",
      " [ -3.2866e-03]\n",
      " [ -1.4123e-01]\n",
      " [  3.2099e-03]\n",
      " [ -3.6563e-04]\n",
      " [  7.2145e-02]\n",
      " [  2.9026e-02]\n",
      " [  9.2285e-01]\n",
      " [ -8.9632e-03]\n",
      " [ -2.5063e-02]\n",
      " [ -9.5710e-02]\n",
      " [ -5.3282e-02]\n",
      " [  1.4460e-04]]\n",
      "Eigenvalue 10: -3.47e-16\n",
      "\n",
      "Eigenvector 11: \n",
      "[[ -2.0598e-01]\n",
      " [  2.7287e-01]\n",
      " [  1.1772e-01]\n",
      " [ -8.0682e-02]\n",
      " [ -1.1493e-02]\n",
      " [ -4.9636e-01]\n",
      " [ -2.0913e-02]\n",
      " [  4.3695e-01]\n",
      " [  2.3022e-01]\n",
      " [  8.0072e-02]\n",
      " [  2.2610e-01]\n",
      " [  5.2710e-01]\n",
      " [  2.9591e-05]]\n",
      "Eigenvalue 11: 1.24e-15\n",
      "\n",
      "Eigenvector 12: \n",
      "[[ -2.0598e-01]\n",
      " [  2.7287e-01]\n",
      " [  1.1772e-01]\n",
      " [ -8.0682e-02]\n",
      " [ -1.1493e-02]\n",
      " [ -4.9636e-01]\n",
      " [ -2.0913e-02]\n",
      " [  4.3695e-01]\n",
      " [  2.3022e-01]\n",
      " [  8.0072e-02]\n",
      " [  2.2610e-01]\n",
      " [  5.2710e-01]\n",
      " [  2.9591e-05]]\n",
      "Eigenvalue 12: 1.24e-15\n",
      "\n",
      "Eigenvector 13: \n",
      "[[ -9.2407e-02]\n",
      " [  8.7442e-02]\n",
      " [  3.5080e-01]\n",
      " [  1.7366e-02]\n",
      " [ -1.2050e-02]\n",
      " [  5.6197e-02]\n",
      " [  3.6037e-02]\n",
      " [  9.6682e-02]\n",
      " [  3.5756e-02]\n",
      " [  3.4388e-02]\n",
      " [  9.0455e-01]\n",
      " [ -1.6076e-01]\n",
      " [  2.6065e-04]]\n",
      "Eigenvalue 13: 4.10e-16\n"
     ]
    }
   ],
   "source": [
    "eig_vals, eig_vecs = np.linalg.eig(np.linalg.inv(S_W).dot(S_B))\n",
    "\n",
    "for i in range(len(eig_vals)):\n",
    "    eigvec_sc = eig_vecs[:,i].reshape(13,1)   \n",
    "    print('\\nEigenvector {}: \\n{}'.format(i+1, eigvec_sc.real))\n",
    "    print('Eigenvalue {:}: {:.2e}'.format(i+1, eig_vals[i].real))"
   ]
  },
  {
   "cell_type": "markdown",
   "metadata": {},
   "source": [
    "\n",
    "A quick check that the eigenvector-eigenvalue calculation is correct and satisfy the equation:\n",
    "\n",
    "$\\pmb A\\pmb{v} =  \\lambda\\pmb{v}$  \n",
    "\n",
    "<br>\n",
    "where  \n",
    "$\\pmb A = S_{W}^{-1}S_B\\\\\n",
    "\\pmb{v} = \\; \\text{Eigenvector}\\\\\n",
    "\\lambda = \\; \\text{Eigenvalue}$"
   ]
  },
  {
   "cell_type": "code",
   "execution_count": 11,
   "metadata": {
    "collapsed": false
   },
   "outputs": [
    {
     "name": "stdout",
     "output_type": "stream",
     "text": [
      "ok\n"
     ]
    }
   ],
   "source": [
    "for i in range(len(eig_vals)):\n",
    "    eigv = eig_vecs[:,i].reshape(13,1) \n",
    "    np.testing.assert_array_almost_equal(np.linalg.inv(S_W).dot(S_B).dot(eigv), \n",
    "                                         eig_vals[i] * eigv, \n",
    "                                         decimal=6, err_msg='', verbose=True)\n",
    "print('ok')"
   ]
  },
  {
   "cell_type": "markdown",
   "metadata": {},
   "source": [
    "### 4.1. Sorting the eigenvectors by decreasing eigenvalues"
   ]
  },
  {
   "cell_type": "code",
   "execution_count": 12,
   "metadata": {
    "collapsed": false
   },
   "outputs": [
    {
     "name": "stdout",
     "output_type": "stream",
     "text": [
      "Eigenvalues in decreasing order:\n",
      "\n",
      "28.2836470112\n",
      "12.2706915091\n",
      "3.40961784481e-15\n",
      "3.40961784481e-15\n",
      "3.13831423828e-15\n",
      "2.02306246314e-15\n",
      "2.02306246314e-15\n",
      "1.24951340812e-15\n",
      "1.24951340812e-15\n",
      "1.22432703145e-15\n",
      "7.09189182161e-16\n",
      "7.09189182161e-16\n",
      "4.10048955759e-16\n"
     ]
    }
   ],
   "source": [
    "# Make a list of (eigenvalue, eigenvector) tuples\n",
    "eig_pairs = [(np.abs(eig_vals[i]), eig_vecs[:,i]) for i in range(len(eig_vals))]\n",
    "\n",
    "# Sort the (eigenvalue, eigenvector) tuples from high to low\n",
    "eig_pairs = sorted(eig_pairs, key=lambda k: k[0], reverse=True)\n",
    "\n",
    "# Visually confirm that the list is correctly sorted by decreasing eigenvalues\n",
    "\n",
    "print('Eigenvalues in decreasing order:\\n')\n",
    "for i in eig_pairs:\n",
    "    print(i[0])"
   ]
  },
  {
   "cell_type": "code",
   "execution_count": 13,
   "metadata": {
    "collapsed": false
   },
   "outputs": [
    {
     "name": "stdout",
     "output_type": "stream",
     "text": [
      "Variance explained:\n",
      "\n",
      "eigenvalue 1: 69.74%\n",
      "eigenvalue 2: 30.26%\n",
      "eigenvalue 3: 0.00%\n",
      "eigenvalue 4: 0.00%\n",
      "eigenvalue 5: 0.00%\n",
      "eigenvalue 6: 0.00%\n",
      "eigenvalue 7: 0.00%\n",
      "eigenvalue 8: 0.00%\n",
      "eigenvalue 9: 0.00%\n",
      "eigenvalue 10: 0.00%\n",
      "eigenvalue 11: 0.00%\n",
      "eigenvalue 12: 0.00%\n",
      "eigenvalue 13: 0.00%\n"
     ]
    }
   ],
   "source": [
    "print('Variance explained:\\n')\n",
    "eigv_sum = sum(eig_vals)\n",
    "for i,j in enumerate(eig_pairs):\n",
    "    print('eigenvalue {0:}: {1:.2%}'.format(i+1, (j[0]/eigv_sum).real))"
   ]
  },
  {
   "cell_type": "markdown",
   "metadata": {},
   "source": [
    "### 4.2. Choosing *k* eigenvectors with the largest eigenvalues"
   ]
  },
  {
   "cell_type": "code",
   "execution_count": 14,
   "metadata": {
    "collapsed": false
   },
   "outputs": [
    {
     "name": "stdout",
     "output_type": "stream",
     "text": [
      "('Matrix W:\\n', array([[ -5.5178e-02,   2.2406e-01],\n",
      "       [  3.1206e-03,   3.4697e-02],\n",
      "       [ -1.2575e-01,   5.0655e-01],\n",
      "       [  3.9878e-03,  -2.1474e-02],\n",
      "       [  5.0861e-03,   1.7723e-03],\n",
      "       [  3.1920e-02,  -3.6466e-01],\n",
      "       [  4.1967e-01,   1.0518e-01],\n",
      "       [ -7.0028e-01,  -2.5237e-01],\n",
      "       [ -3.4561e-02,  -3.4118e-02],\n",
      "       [ -1.5102e-01,   4.4911e-02],\n",
      "       [  5.2378e-01,  -6.8830e-01],\n",
      "       [  1.2338e-01,   8.2842e-02],\n",
      "       [  3.5312e-04,   4.2190e-04]]))\n"
     ]
    }
   ],
   "source": [
    "W = np.hstack((eig_pairs[0][1].reshape(13,1), eig_pairs[1][1].reshape(13,1)))\n",
    "print('Matrix W:\\n', W.real)"
   ]
  },
  {
   "cell_type": "markdown",
   "metadata": {},
   "source": [
    "# Step 5: Transforming the samples onto the new subspace"
   ]
  },
  {
   "cell_type": "markdown",
   "metadata": {},
   "source": [
    "In the last step, we use the $4 \\times 2$-dimensional matrix $\\pmb W$ that we just computed to transform our samples onto the new subspace via the equation   \n",
    "\n",
    "$\\pmb Y = \\pmb X \\times \\pmb W $.\n",
    "\n",
    "(where $\\pmb X$ is a $n \\times d$-dimensional matrix representing the $n$ samples, and $\\pmb Y$ are the transformed $n \\times k$-dimensional samples in the new subspace)."
   ]
  },
  {
   "cell_type": "code",
   "execution_count": 15,
   "metadata": {
    "collapsed": false
   },
   "outputs": [
    {
     "data": {
      "image/png": "[encoded data removed]",
      "text/plain": [
       "<matplotlib.figure.Figure at 0x7f5e437c12d0>"
      ]
     },
     "metadata": {},
     "output_type": "display_data"
    }
   ],
   "source": [
    "X_lda = X.dot(W)\n",
    "from matplotlib import pyplot as plt\n",
    "\n",
    "def plot_step_lda():\n",
    "    \n",
    "    ax = plt.subplot(111)\n",
    "    for label,marker,color in zip(\n",
    "        range(1,4),('^', 's', 'o'),('blue', 'red', 'green')):\n",
    "\n",
    "        plt.scatter(x=X_lda[:,0].real[y == label],\n",
    "                y=X_lda[:,1].real[y == label],\n",
    "                marker=marker,\n",
    "                color=color,\n",
    "                alpha=0.5,\n",
    "                label=label_dict[label]\n",
    "                )\n",
    "\n",
    "    plt.xlabel('LD1')\n",
    "    plt.ylabel('LD2')\n",
    "\n",
    "    leg = plt.legend(loc='upper right', fancybox=True)\n",
    "    leg.get_frame().set_alpha(0.5)\n",
    "    plt.title('LDA: Wine data projection onto the first 2 linear discriminants')\n",
    "    \n",
    "    # hide axis ticks\n",
    "    plt.tick_params(axis=\"both\", which=\"both\", bottom=\"off\", top=\"off\",  \n",
    "            labelbottom=\"on\", left=\"off\", right=\"off\", labelleft=\"on\")\n",
    "\n",
    "    # remove axis spines\n",
    "    ax.spines[\"top\"].set_visible(False)  \n",
    "    ax.spines[\"right\"].set_visible(False) \n",
    "    ax.spines[\"bottom\"].set_visible(False) \n",
    "    ax.spines[\"left\"].set_visible(False)    \n",
    " \n",
    "    plt.grid()\n",
    "    plt.tight_layout\n",
    "    plt.show()\n",
    "    \n",
    "plot_step_lda()"
   ]
  },
  {
   "cell_type": "code",
   "execution_count": 16,
   "metadata": {
    "collapsed": true
   },
   "outputs": [],
   "source": [
    "from sklearn.decomposition import PCA as sklearnPCA\n",
    "\n",
    "sklearn_pca = sklearnPCA(n_components=2)\n",
    "X_pca = sklearn_pca.fit_transform(X)\n",
    "\n",
    "def plot_pca():\n",
    "\n",
    "    ax = plt.subplot(111)\n",
    "    \n",
    "    for label,marker,color in zip(\n",
    "        range(1,4),('^', 's', 'o'),('blue', 'red', 'green')):\n",
    "\n",
    "        plt.scatter(x=X_pca[:,0][y == label],\n",
    "                y=X_pca[:,1][y == label],\n",
    "                marker=marker,\n",
    "                color=color,\n",
    "                alpha=0.5,\n",
    "                label=label_dict[label]\n",
    "                )\n",
    "\n",
    "    plt.xlabel('PC1')\n",
    "    plt.ylabel('PC2')\n",
    "\n",
    "    leg = plt.legend(loc='upper right', fancybox=True)\n",
    "    leg.get_frame().set_alpha(0.5)\n",
    "    plt.title('PCA: Wine data projection onto the first 2 principal components')\n",
    "\n",
    "    # hide axis ticks\n",
    "    plt.tick_params(axis=\"both\", which=\"both\", bottom=\"off\", top=\"off\",  \n",
    "            labelbottom=\"on\", left=\"off\", right=\"off\", labelleft=\"on\")\n",
    "\n",
    "    # remove axis spines\n",
    "    ax.spines[\"top\"].set_visible(False)  \n",
    "    ax.spines[\"right\"].set_visible(False) \n",
    "    ax.spines[\"bottom\"].set_visible(False) \n",
    "    ax.spines[\"left\"].set_visible(False)    \n",
    "    \n",
    "    plt.tight_layout\n",
    "    plt.grid()\n",
    "    \n",
    "    plt.show()"
   ]
  },
  {
   "cell_type": "code",
   "execution_count": 17,
   "metadata": {
    "collapsed": false
   },
   "outputs": [
    {
     "data": {
      "image/png": "[encoded data removed]",
      "text/plain": [
       "<matplotlib.figure.Figure at 0x7f5e4388c0d0>"
      ]
     },
     "metadata": {},
     "output_type": "display_data"
    },
    {
     "data": {
      "image/png": "[encoded data removed]",
      "text/plain": [
       "<matplotlib.figure.Figure at 0x7f5e35e21510>"
      ]
     },
     "metadata": {},
     "output_type": "display_data"
    }
   ],
   "source": [
    "plot_pca()\n",
    "plot_step_lda()"
   ]
  },
  {
   "cell_type": "code",
   "execution_count": null,
   "metadata": {
    "collapsed": true
   },
   "outputs": [],
   "source": []
  }
 ],
 "metadata": {
  "celltoolbar": "Slideshow",
  "kernelspec": {
   "display_name": "Python 2",
   "language": "python",
   "name": "python2"
  },
  "language_info": {
   "codemirror_mode": {
    "name": "ipython",
    "version": 2
   },
   "file_extension": ".py",
   "mimetype": "text/x-python",
   "name": "python",
   "nbconvert_exporter": "python",
   "pygments_lexer": "ipython2",
   "version": "2.7.11"
  }
 },
 "nbformat": 4,
 "nbformat_minor": 0
}
