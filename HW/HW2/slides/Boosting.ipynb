{
 "cells": [
  {
   "cell_type": "markdown",
   "metadata": {},
   "source": [
    "# Boosting"
   ]
  },
  {
   "cell_type": "code",
   "execution_count": 2,
   "metadata": {
    "collapsed": false
   },
   "outputs": [],
   "source": [
    "# Imports\n",
    "import os\n",
    "import pandas as pd\n",
    "import numpy as np\n",
    "import matplotlib.pyplot as plt\n",
    "from sklearn.decomposition import PCA\n",
    "from sklearn.tree import DecisionTreeClassifier\n",
    "%matplotlib inline\n"
   ]
  },
  {
   "cell_type": "markdown",
   "metadata": {},
   "source": [
    "### Import MNIST Train and Test Data"
   ]
  },
  {
   "cell_type": "code",
   "execution_count": 3,
   "metadata": {
    "collapsed": false
   },
   "outputs": [
    {
     "data": {
      "text/plain": [
       "(24217, 784)"
      ]
     },
     "execution_count": 3,
     "metadata": {},
     "output_type": "execute_result"
    }
   ],
   "source": [
    "mnist_train_df = pd.read_csv('train.csv', header=None).T\n",
    "mnist_test_df = pd.read_csv('test.csv', header=None).T\n",
    "last_column = mnist_test_df.columns[-1]\n",
    "mnist_train_df.rename(columns={last_column:'Class'}, inplace=True)\n",
    "mnist_test_df.rename(columns={last_column:'Class'}, inplace=True)\n",
    "\n",
    "mnist_train_labels = mnist_train_df['Class']\n",
    "mnist_test_labels = mnist_test_df['Class']\n",
    "\n",
    "X_mnist_train = mnist_train_df.drop('Class',axis=1)\n",
    "y_mnist_train = mnist_train_labels\n",
    "\n",
    "X_mnist_test = mnist_test_df.drop('Class',axis=1)\n",
    "y_mnist_test = mnist_test_labels\n",
    "X_mnist_train.shape"
   ]
  },
  {
   "cell_type": "markdown",
   "metadata": {},
   "source": [
    "### Run PCA\n"
   ]
  },
  {
   "cell_type": "code",
   "execution_count": 4,
   "metadata": {
    "collapsed": false
   },
   "outputs": [],
   "source": [
    "pca = PCA(n_components=20)\n",
    "X_mnist_train_pca = pca.fit_transform(X_mnist_train)\n",
    "mnist_train_df_pca = pd.DataFrame(X_mnist_train_pca)\n",
    "mnist_train_df_pca['Class'] = y_mnist_train\n",
    "X_mnist_train_pca = mnist_train_df_pca.drop('Class',axis=1)\n",
    "\n",
    "\n",
    "X_mnist_test_pca = pca.fit_transform(X_mnist_test)\n",
    "mnist_test_df_pca = pd.DataFrame(X_mnist_test_pca)\n",
    "mnist_test_df_pca['Class'] = y_mnist_test\n",
    "X_mnist_test_pca = mnist_test_df_pca.drop('Class',axis=1)"
   ]
  },
  {
   "cell_type": "markdown",
   "metadata": {},
   "source": [
    "## Single iteration of AdaBoost"
   ]
  },
  {
   "cell_type": "code",
   "execution_count": 5,
   "metadata": {
    "collapsed": true
   },
   "outputs": [],
   "source": [
    "X = X_mnist_train_pca;    \n",
    "y = y_mnist_train;\n",
    "num_iterations = 10;\n",
    "n, _ = X.shape\n",
    "K = len(np.unique(y))"
   ]
  },
  {
   "cell_type": "markdown",
   "metadata": {},
   "source": [
    "### Initialize sample weights"
   ]
  },
  {
   "cell_type": "code",
   "execution_count": 6,
   "metadata": {
    "collapsed": true
   },
   "outputs": [],
   "source": [
    "sample_weight = np.empty(X.shape[0], dtype=np.float)\n",
    "sample_weight[:] = 1. / X.shape[0]  \n",
    "sample_weight_sum = sample_weight.sum(dtype=np.float64)          "
   ]
  },
  {
   "cell_type": "markdown",
   "metadata": {},
   "source": [
    "### Fit the decision tree"
   ]
  },
  {
   "cell_type": "code",
   "execution_count": 7,
   "metadata": {
    "collapsed": false
   },
   "outputs": [
    {
     "data": {
      "text/plain": [
       "DecisionTreeClassifier(class_weight=None, criterion='gini', max_depth=1,\n",
       "            max_features=None, max_leaf_nodes=None, min_samples_leaf=1,\n",
       "            min_samples_split=2, min_weight_fraction_leaf=0.0,\n",
       "            presort=False, random_state=None, splitter='best')"
      ]
     },
     "execution_count": 7,
     "metadata": {},
     "output_type": "execute_result"
    }
   ],
   "source": [
    "decision_tree = DecisionTreeClassifier(max_depth=1)\n",
    "decision_tree.fit(X, y, sample_weight=sample_weight)"
   ]
  },
  {
   "cell_type": "markdown",
   "metadata": {},
   "source": [
    "### Predict"
   ]
  },
  {
   "cell_type": "code",
   "execution_count": 8,
   "metadata": {
    "collapsed": true
   },
   "outputs": [],
   "source": [
    "y_pred = decision_tree.predict(X)"
   ]
  },
  {
   "cell_type": "markdown",
   "metadata": {},
   "source": [
    "### Find incorrectly classified samples.   "
   ]
  },
  {
   "cell_type": "code",
   "execution_count": 9,
   "metadata": {
    "collapsed": true
   },
   "outputs": [],
   "source": [
    "misclassified = (y_pred != y)"
   ]
  },
  {
   "cell_type": "markdown",
   "metadata": {},
   "source": [
    "### Compute Error"
   ]
  },
  {
   "cell_type": "code",
   "execution_count": 10,
   "metadata": {
    "collapsed": false
   },
   "outputs": [
    {
     "name": "stdout",
     "output_type": "stream",
     "text": [
      "Iteration#: 1 Training_error:  0.485485402816\n"
     ]
    }
   ],
   "source": [
    "err_train = np.average(misclassified, weights=sample_weight, axis=0)\n",
    "err_train = err_train/sample_weight_sum\n",
    "print \"Iteration#: 1\" \" Training_error: \", err_train    "
   ]
  },
  {
   "cell_type": "markdown",
   "metadata": {},
   "source": [
    "### Compute new alphas given error"
   ]
  },
  {
   "cell_type": "code",
   "execution_count": 11,
   "metadata": {
    "collapsed": true
   },
   "outputs": [],
   "source": [
    "alpha = np.log((1 - err_train)/err_train) + np.log(K - 1)\n"
   ]
  },
  {
   "cell_type": "markdown",
   "metadata": {},
   "source": [
    "### Update sample weights given alpha and normalize it"
   ]
  },
  {
   "cell_type": "code",
   "execution_count": 12,
   "metadata": {
    "collapsed": true
   },
   "outputs": [],
   "source": [
    "for i in range(n):\n",
    "    if misclassified[i]: \n",
    "        sample_weight[i] *= np.exp(alpha)            \n",
    "\n",
    "# Re-normalize weights\n",
    "sample_weight_sum = sample_weight.sum(dtype=np.float64)          \n",
    "sample_weight = sample_weight / sample_weight_sum\n"
   ]
  },
  {
   "cell_type": "markdown",
   "metadata": {},
   "source": [
    "### Run n iterations of AdaBoost"
   ]
  },
  {
   "cell_type": "code",
   "execution_count": 13,
   "metadata": {
    "collapsed": false
   },
   "outputs": [
    {
     "name": "stdout",
     "output_type": "stream",
     "text": [
      "Iteration#:  0  Training_error:  0.485485402816\n",
      "Iteration#:  1  Training_error:  0.191617890186\n",
      "Iteration#:  2  Training_error:  0.0753514962347\n",
      "Iteration#:  3  Training_error:  0.0201957735387\n",
      "Iteration#:  4  Training_error:  0.00902244705979\n",
      "Iteration#:  5  Training_error:  0.00205715461567\n",
      "Iteration#:  6  Training_error:  0.000186854815912\n",
      "Iteration#:  7  Training_error:  0.000140170233029\n",
      "Iteration#:  8  Training_error:  2.01682501807e-05\n",
      "Iteration#:  9  Training_error:  4.56990265033e-06\n"
     ]
    }
   ],
   "source": [
    "X = X_mnist_train_pca;    \n",
    "y = y_mnist_train;\n",
    "num_iterations = 10;\n",
    "n, _ = X.shape\n",
    "K = len(np.unique(y))\n",
    "    \n",
    "errors = np.zeros(num_iterations, dtype=np.float)\n",
    "    \n",
    "# Initialize weights to 1 / n_samples\n",
    "sample_weight = np.empty(X.shape[0], dtype=np.float)\n",
    "sample_weight[:] = 1. / X.shape[0]  \n",
    "sample_weight_sum = sample_weight.sum(dtype=np.float64)          \n",
    "\n",
    "max_depth = 1;\n",
    "\n",
    "for iteration in range(num_iterations):    \n",
    "    \n",
    "    decision_tree = DecisionTreeClassifier(max_depth=max_depth)\n",
    "\n",
    "    # Fit decision tree\n",
    "    decision_tree.fit(X, y, sample_weight=sample_weight)\n",
    "    y_pred = decision_tree.predict(X)\n",
    "        \n",
    "    # Find incorrectly classified samples.   \n",
    "    misclassified = (y_pred != y)\n",
    "        \n",
    "    # Error\n",
    "    err_train = np.average(misclassified, weights=sample_weight, axis=0)\n",
    "    err_train = err_train/sample_weight_sum\n",
    "    print \"Iteration#: \",iteration, \" Training_error: \", err_train    \n",
    "      \n",
    "    # Boost weight using AdaBoost SAMME algo\n",
    "    alpha = np.log((1 - err_train)/err_train) + np.log(K - 1)\n",
    "        \n",
    "    # Set sample weight\n",
    "    for i in range(n):\n",
    "        if misclassified[i]: \n",
    "            sample_weight[i] *= np.exp(alpha)            \n",
    "\n",
    "    # Re-normalize weights\n",
    "    sample_weight_sum = sample_weight.sum(dtype=np.float64)          \n",
    "    sample_weight = sample_weight / sample_weight_sum\n",
    "        \n",
    "    errors[iteration] = err_train  "
   ]
  },
  {
   "cell_type": "code",
   "execution_count": 14,
   "metadata": {
    "collapsed": false
   },
   "outputs": [
    {
     "data": {
      "image/png": "[encoded data removed]",
      "text/plain": [
       "<matplotlib.figure.Figure at 0x7f8150575690>"
      ]
     },
     "metadata": {},
     "output_type": "display_data"
    }
   ],
   "source": [
    "err_plot = plt.plot(errors)\n",
    "plt.ylabel('Training Error');\n",
    "plt.xlabel('Iterations')\n",
    "plt.show()\n"
   ]
  },
  {
   "cell_type": "code",
   "execution_count": 15,
   "metadata": {
    "collapsed": false,
    "scrolled": true
   },
   "outputs": [
    {
     "name": "stdout",
     "output_type": "stream",
     "text": [
      "Iteration#:  0  Training_error:  0.0378246686212\n",
      "Iteration#:  1  Training_error:  0.0174518593615\n",
      "Iteration#:  2  Training_error:  0.00239955869325\n",
      "Iteration#:  3  Training_error:  0.000983775958867\n",
      "Iteration#:  4  Training_error:  6.01261614317e-05\n",
      "Iteration#:  5  Training_error:  1.09269028786e-05\n",
      "Iteration#:  6  Training_error:  1.55905153165e-06\n",
      "Iteration#:  7  Training_error:  2.82827432773e-07\n",
      "Iteration#:  8  Training_error:  1.47849714367e-08\n",
      "Iteration#:  9  Training_error:  4.84757817525e-09\n"
     ]
    }
   ],
   "source": [
    " \n",
    "errors_depth_10 = np.zeros(num_iterations, dtype=np.float)\n",
    "    \n",
    "# Initialize weights to 1 / n_samples\n",
    "sample_weight = np.empty(X.shape[0], dtype=np.float)\n",
    "sample_weight[:] = 1. / X.shape[0]  \n",
    "sample_weight_sum = sample_weight.sum(dtype=np.float64)          \n",
    "\n",
    "max_depth = 10;\n",
    "\n",
    "for iteration in range(num_iterations):    \n",
    "    \n",
    "    decision_tree = DecisionTreeClassifier(max_depth=max_depth)\n",
    "\n",
    "    # Fit decision tree\n",
    "    decision_tree.fit(X, y, sample_weight=sample_weight)\n",
    "    y_pred = decision_tree.predict(X)\n",
    "        \n",
    "    # Find incorrectly classified samples.   \n",
    "    misclassified = (y_pred != y)\n",
    "        \n",
    "    # Error\n",
    "    err_train = np.average(misclassified, weights=sample_weight, axis=0)\n",
    "    err_train = err_train/sample_weight_sum\n",
    "    print \"Iteration#: \",iteration, \" Training_error: \", err_train    \n",
    "      \n",
    "    # Boost weight using AdaBoost SAMME algo\n",
    "    alpha = np.log((1 - err_train)/err_train) + np.log(K - 1)\n",
    "        \n",
    "    # Set sample weight\n",
    "    for i in range(n):\n",
    "        if misclassified[i]: \n",
    "            sample_weight[i] *= np.exp(alpha)            \n",
    "\n",
    "    # Re-normalize weights\n",
    "    sample_weight_sum = sample_weight.sum(dtype=np.float64)          \n",
    "    sample_weight = sample_weight / sample_weight_sum\n",
    "        \n",
    "    errors_depth_10[iteration] = err_train  "
   ]
  },
  {
   "cell_type": "code",
   "execution_count": 16,
   "metadata": {
    "collapsed": false
   },
   "outputs": [
    {
     "data": {
      "image/png": "[encoded data removed]",
      "text/plain": [
       "<matplotlib.figure.Figure at 0x7f8146e80490>"
      ]
     },
     "metadata": {},
     "output_type": "display_data"
    }
   ],
   "source": [
    "error1 = plt.plot(errors, label='Depth=1');\n",
    "error2 = plt.plot(errors_depth_10, label='Depth=10');\n",
    "plt.ylabel('Training Error');\n",
    "plt.xlabel('Iterations')\n",
    "plt.show()"
   ]
  },
  {
   "cell_type": "markdown",
   "metadata": {},
   "source": [
    "# Office dataset"
   ]
  },
  {
   "cell_type": "markdown",
   "metadata": {},
   "source": [
    "### Import Office Train and Test Data"
   ]
  },
  {
   "cell_type": "code",
   "execution_count": 17,
   "metadata": {
    "collapsed": false
   },
   "outputs": [],
   "source": [
    "office_train_df = pd.read_csv('office_train.csv', header=None)\n",
    "office_test_df = pd.read_csv('office_test.csv', header=None)\n",
    "label = office_test_df.columns[-1]\n",
    "segment = office_test_df.columns[-2]\n",
    "image = office_test_df.columns[-3]\n",
    "office_train_df.rename(columns={label:'Class', segment: 'Segment', image:'Image' }, inplace=True)\n",
    "office_test_df.rename(columns={label:'Class', segment: 'Segment', image:'Image'}, inplace=True)\n",
    "\n",
    "office_test_labels = office_test_df['Class']\n",
    "X_office_train = office_train_df.drop(['Class','Segment','Image'] ,axis=1)\n",
    "y_office_train  = office_train_df['Class']\n",
    "X_office_test = office_test_df.drop(['Class','Segment','Image'] ,axis=1)\n",
    "y_office_test  = office_test_df['Class']                              "
   ]
  },
  {
   "cell_type": "markdown",
   "metadata": {},
   "source": [
    "### Run PCA\n"
   ]
  },
  {
   "cell_type": "code",
   "execution_count": 18,
   "metadata": {
    "collapsed": false
   },
   "outputs": [],
   "source": [
    "pca = PCA(n_components=20)\n",
    "X_office_train_pca = pca.fit_transform(X_office_train)\n",
    "office_train_df_pca = pd.DataFrame(X_office_train_pca)\n",
    "office_train_df_pca['Class'] = y_office_train\n",
    "X_office_train_pca = office_train_df_pca.drop('Class',axis=1)\n",
    "\n",
    "\n",
    "X_office_test_pca = pca.fit_transform(X_office_test)\n",
    "office_test_df_pca = pd.DataFrame(X_office_test_pca)\n",
    "office_test_df_pca['Class'] = y_office_test\n",
    "X_office_test_pca = office_test_df_pca.drop('Class',axis=1)"
   ]
  },
  {
   "cell_type": "markdown",
   "metadata": {},
   "source": [
    "### Run n iterations of AdaBoost"
   ]
  },
  {
   "cell_type": "code",
   "execution_count": 28,
   "metadata": {
    "collapsed": false
   },
   "outputs": [
    {
     "name": "stdout",
     "output_type": "stream",
     "text": [
      "Iteration#:  0  Training_error:  0.440929181946  Test_error:  0.422842727905\n",
      "Iteration#:  1  Training_error:  0.0683297746909  Test_error:  0.873579215959\n",
      "Iteration#:  2  Training_error:  0.00435119961606  Test_error:  0.94537230341\n",
      "Iteration#:  3  Training_error:  0.000241296554863  Test_error:  0.980804917653\n",
      "Iteration#:  4  Training_error:  1.26088887422e-05  Test_error:  0.971555323591\n",
      "Iteration#:  5  Training_error:  6.31545833728e-07  Test_error:  0.562630480167\n",
      "Iteration#:  6  Training_error:  4.23154944538e-08  Test_error:  0.771021804686\n",
      "Iteration#:  7  Training_error:  2.29052539004e-09  Test_error:  0.99272210624\n",
      "Iteration#:  8  Training_error:  1.32385680446e-10  Test_error:  0.97187427511\n",
      "Iteration#:  9  Training_error:  6.98961274146e-12  Test_error:  0.992316167942\n"
     ]
    }
   ],
   "source": [
    "X = X_office_train_pca;    \n",
    "y = y_office_train;\n",
    "num_iterations = 10;\n",
    "n, _ = X.shape\n",
    "K = len(np.unique(y))\n",
    "    \n",
    "errors = np.zeros(num_iterations, dtype=np.float)\n",
    "errors_test = np.zeros(num_iterations, dtype=np.float)\n",
    "\n",
    "# Initialize weights to 1 / n_samples\n",
    "sample_weight = np.empty(X.shape[0], dtype=np.float)\n",
    "sample_weight[:] = 1. / X.shape[0]  \n",
    "sample_weight_sum = sample_weight.sum(dtype=np.float64)          \n",
    "\n",
    "max_depth = 1;\n",
    "\n",
    "for iteration in range(num_iterations):    \n",
    "    \n",
    "    decision_tree = DecisionTreeClassifier(max_depth=max_depth)\n",
    "\n",
    "    # Fit decision tree\n",
    "    decision_tree.fit(X, y, sample_weight=sample_weight)\n",
    "    y_pred = decision_tree.predict(X)\n",
    "        \n",
    "    # Find incorrectly classified samples.   \n",
    "    misclassified = (y_pred != y)\n",
    "        \n",
    "    # Error\n",
    "    err_train = np.average(misclassified, weights=sample_weight, axis=0)\n",
    "    err_train = err_train/sample_weight_sum\n",
    "    print \"Iteration#: \",iteration, \" Training_error: \", err_train,\n",
    "    \n",
    "        # Test Error\n",
    "    y_pred_test = decision_tree.predict(X_office_test_pca);\n",
    "    misclassified_test = (y_pred_test != y_office_test);\n",
    "    err_test = misclassified_test.sum()*1.0/y_office_test.shape[0];\n",
    "    print \" Test_error: \", err_test\n",
    "\n",
    "      \n",
    "    # Boost weight using AdaBoost SAMME algo\n",
    "    alpha = np.log((1 - err_train)/err_train) + np.log(K - 1)\n",
    "        \n",
    "    # Set sample weight\n",
    "    for i in range(n):\n",
    "        if misclassified[i]: \n",
    "            sample_weight[i] *= np.exp(alpha)            \n",
    "\n",
    "    # Re-normalize weights\n",
    "    sample_weight_sum = sample_weight.sum(dtype=np.float64)          \n",
    "    sample_weight = sample_weight / sample_weight_sum\n",
    "        \n",
    "    errors[iteration] = err_train  \n",
    "    errors_test[iteration] = err_test"
   ]
  },
  {
   "cell_type": "code",
   "execution_count": 29,
   "metadata": {
    "collapsed": false,
    "scrolled": true
   },
   "outputs": [
    {
     "name": "stdout",
     "output_type": "stream",
     "text": [
      "Iteration#:  0  Training_error:  0.333496005243  Test_error:  0.5320401299\n",
      "Iteration#:  1  Training_error:  0.0353139515369  Test_error:  0.830056831362\n",
      "Iteration#:  2  Training_error:  0.00231235322109  Test_error:  0.85751565762\n",
      "Iteration#:  3  Training_error:  0.000139293960229  Test_error:  0.787433310137\n",
      "Iteration#:  4  Training_error:  6.74238070878e-06  Test_error:  0.671624913013\n",
      "Iteration#:  5  Training_error:  3.07721134137e-07  Test_error:  0.77693690559\n",
      "Iteration#:  6  Training_error:  1.35408633339e-08  Test_error:  0.727122477383\n",
      "Iteration#:  7  Training_error:  7.45663580583e-10  Test_error:  0.674756437022\n",
      "Iteration#:  8  Training_error:  1.2594509562e-11  Test_error:  0.801061238692\n",
      "Iteration#:  9  Training_error:  1.23722614242e-12  Test_error:  0.88868591974\n"
     ]
    }
   ],
   "source": [
    "errors_depth_10 = np.zeros(num_iterations, dtype=np.float)\n",
    "errors_test_depth_10 = np.zeros(num_iterations, dtype=np.float)\n",
    "\n",
    "# Initialize weights to 1 / n_samples\n",
    "sample_weight = np.empty(X.shape[0], dtype=np.float)\n",
    "sample_weight[:] = 1. / X.shape[0]  \n",
    "sample_weight_sum = sample_weight.sum(dtype=np.float64)          \n",
    "\n",
    "max_depth = 10;\n",
    "\n",
    "for iteration in range(num_iterations):    \n",
    "    \n",
    "    decision_tree = DecisionTreeClassifier(max_depth=max_depth)\n",
    "\n",
    "    # Fit decision tree\n",
    "    decision_tree.fit(X, y, sample_weight=sample_weight)\n",
    "    y_pred = decision_tree.predict(X)\n",
    "        \n",
    "    # Find incorrectly classified samples.   \n",
    "    misclassified = (y_pred != y)\n",
    "        \n",
    "    # Error\n",
    "    err_train = np.average(misclassified, weights=sample_weight, axis=0)\n",
    "    err_train = err_train/sample_weight_sum\n",
    "    print \"Iteration#: \",iteration, \" Training_error: \", err_train,    \n",
    "      \n",
    "    # Test Error\n",
    "    y_pred_test = decision_tree.predict(X_office_test_pca);\n",
    "    misclassified_test = (y_pred_test != y_office_test);\n",
    "    err_test = misclassified_test.sum()*1.0/y_office_test.shape[0];\n",
    "    print \" Test_error: \", err_test\n",
    "\n",
    "    # Boost weight using AdaBoost SAMME algo\n",
    "    alpha = np.log((1 - err_train)/err_train) + np.log(K - 1)\n",
    "        \n",
    "    # Set sample weight\n",
    "    for i in range(n):\n",
    "        if misclassified[i]: \n",
    "            sample_weight[i] *= np.exp(alpha)            \n",
    "\n",
    "    # Re-normalize weights\n",
    "    sample_weight_sum = sample_weight.sum(dtype=np.float64)          \n",
    "    sample_weight = sample_weight / sample_weight_sum\n",
    "        \n",
    "    errors_depth_10[iteration] = err_train  \n",
    "    errors_test_depth_10[iteration] = err_test"
   ]
  },
  {
   "cell_type": "code",
   "execution_count": 33,
   "metadata": {
    "collapsed": false
   },
   "outputs": [
    {
     "data": {
      "image/png": "[encoded data removed]",
      "text/plain": [
       "<matplotlib.figure.Figure at 0x7f814e0ec250>"
      ]
     },
     "metadata": {},
     "output_type": "display_data"
    }
   ],
   "source": [
    "error1 = plt.plot(errors, label='Depth=1');\n",
    "error2 = plt.plot(errors_depth_10, label='Depth=10');\n",
    "#error3 = plt.plot(errors_test, label='Depth=1');\n",
    "error4 = plt.plot(errors_test_depth_10, label='Depth=10');\n",
    "\n",
    "plt.ylabel('Training Error');\n",
    "plt.xlabel('Iterations')\n",
    "plt.show()"
   ]
  },
  {
   "cell_type": "code",
   "execution_count": null,
   "metadata": {
    "collapsed": true
   },
   "outputs": [],
   "source": []
  }
 ],
 "metadata": {
  "kernelspec": {
   "display_name": "Python 2",
   "language": "python",
   "name": "python2"
  },
  "language_info": {
   "codemirror_mode": {
    "name": "ipython",
    "version": 2
   },
   "file_extension": ".py",
   "mimetype": "text/x-python",
   "name": "python",
   "nbconvert_exporter": "python",
   "pygments_lexer": "ipython2",
   "version": "2.7.11"
  }
 },
 "nbformat": 4,
 "nbformat_minor": 0
}
