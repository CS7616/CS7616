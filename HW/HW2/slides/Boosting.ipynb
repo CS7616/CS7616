{
 "cells": [
  {
   "cell_type": "markdown",
   "metadata": {},
   "source": [
    "# Boosting"
   ]
  },
  {
   "cell_type": "code",
   "execution_count": 66,
   "metadata": {
    "collapsed": false
   },
   "outputs": [],
   "source": [
    "# Imports\n",
    "import os\n",
    "import pandas as pd\n",
    "import numpy as np\n",
    "import matplotlib.pyplot as plt\n",
    "from sklearn.decomposition import PCA\n",
    "from sklearn.tree import DecisionTreeClassifier\n",
    "%matplotlib inline\n"
   ]
  },
  {
   "cell_type": "markdown",
   "metadata": {},
   "source": [
    "### Import MNIST Train and Test Data"
   ]
  },
  {
   "cell_type": "code",
   "execution_count": 67,
   "metadata": {
    "collapsed": false
   },
   "outputs": [
    {
     "data": {
      "text/plain": [
       "(24217, 784)"
      ]
     },
     "execution_count": 67,
     "metadata": {},
     "output_type": "execute_result"
    }
   ],
   "source": [
    "mnist_train = os.path.join('train.csv')\n",
    "mnist_test = os.path.join('test.csv')\n",
    "\n",
    "mnist_train_df = pd.read_csv(mnist_train, header=None).T\n",
    "mnist_test_df = pd.read_csv(mnist_test, header=None).T\n",
    "last_column = mnist_test_df.columns[-1]\n",
    "mnist_train_df.rename(columns={last_column:'Class'}, inplace=True)\n",
    "mnist_test_df.rename(columns={last_column:'Class'}, inplace=True)\n",
    "\n",
    "mnist_train_labels = mnist_train_df['Class']\n",
    "mnist_test_labels = mnist_test_df['Class']\n",
    "\n",
    "X_mnist_train = mnist_train_df.drop('Class',axis=1)\n",
    "y_mnist_train = mnist_train_labels\n",
    "\n",
    "X_mnist_test = mnist_test_df.drop('Class',axis=1)\n",
    "y_mnist_test = mnist_test_labels\n",
    "X_mnist_train.shape"
   ]
  },
  {
   "cell_type": "markdown",
   "metadata": {},
   "source": [
    "### Run PCA\n"
   ]
  },
  {
   "cell_type": "code",
   "execution_count": 68,
   "metadata": {
    "collapsed": false
   },
   "outputs": [],
   "source": [
    "pca = PCA(n_components=20)\n",
    "X_mnist_train_pca = pca.fit_transform(X_mnist_train)\n",
    "mnist_train_df_pca = pd.DataFrame(X_mnist_train_pca)\n",
    "mnist_train_df_pca['Class'] = y_mnist_train\n",
    "X_mnist_train_pca = mnist_train_df_pca.drop('Class',axis=1)\n",
    "\n",
    "\n",
    "X_mnist_test_pca = pca.fit_transform(X_mnist_test)\n",
    "mnist_test_df_pca = pd.DataFrame(X_mnist_test_pca)\n",
    "mnist_test_df_pca['Class'] = y_mnist_test\n",
    "X_mnist_test_pca = mnist_test_df_pca.drop('Class',axis=1)"
   ]
  },
  {
   "cell_type": "markdown",
   "metadata": {},
   "source": [
    "## Single iteration of AdaBoost"
   ]
  },
  {
   "cell_type": "code",
   "execution_count": 69,
   "metadata": {
    "collapsed": true
   },
   "outputs": [],
   "source": [
    "X = X_mnist_train_pca;    \n",
    "y = y_mnist_train;\n",
    "num_iterations = 10;\n",
    "n, _ = X.shape\n",
    "K = len(np.unique(y))"
   ]
  },
  {
   "cell_type": "markdown",
   "metadata": {},
   "source": [
    "### Initialize sample weights"
   ]
  },
  {
   "cell_type": "code",
   "execution_count": 70,
   "metadata": {
    "collapsed": true
   },
   "outputs": [],
   "source": [
    "sample_weight = np.empty(X.shape[0], dtype=np.float)\n",
    "sample_weight[:] = 1. / X.shape[0]  \n",
    "sample_weight_sum = sample_weight.sum(dtype=np.float64)          "
   ]
  },
  {
   "cell_type": "markdown",
   "metadata": {},
   "source": [
    "### Fit the decision tree"
   ]
  },
  {
   "cell_type": "code",
   "execution_count": 71,
   "metadata": {
    "collapsed": false
   },
   "outputs": [
    {
     "data": {
      "text/plain": [
       "DecisionTreeClassifier(class_weight=None, criterion='gini', max_depth=1,\n",
       "            max_features=None, max_leaf_nodes=None, min_samples_leaf=1,\n",
       "            min_samples_split=2, min_weight_fraction_leaf=0.0,\n",
       "            presort=False, random_state=None, splitter='best')"
      ]
     },
     "execution_count": 71,
     "metadata": {},
     "output_type": "execute_result"
    }
   ],
   "source": [
    "decision_tree = DecisionTreeClassifier(max_depth=1)\n",
    "decision_tree.fit(X, y, sample_weight=sample_weight)"
   ]
  },
  {
   "cell_type": "markdown",
   "metadata": {},
   "source": [
    "### Predict"
   ]
  },
  {
   "cell_type": "code",
   "execution_count": 72,
   "metadata": {
    "collapsed": true
   },
   "outputs": [],
   "source": [
    "y_pred = decision_tree.predict(X)"
   ]
  },
  {
   "cell_type": "markdown",
   "metadata": {},
   "source": [
    "### Find incorrectly classified samples.   "
   ]
  },
  {
   "cell_type": "code",
   "execution_count": 73,
   "metadata": {
    "collapsed": true
   },
   "outputs": [],
   "source": [
    "misclassified = (y_pred != y)"
   ]
  },
  {
   "cell_type": "markdown",
   "metadata": {},
   "source": [
    "### Compute Error"
   ]
  },
  {
   "cell_type": "code",
   "execution_count": 74,
   "metadata": {
    "collapsed": false
   },
   "outputs": [
    {
     "name": "stdout",
     "output_type": "stream",
     "text": [
      "Iteration#: 1 Training_error:  0.485485402816\n"
     ]
    }
   ],
   "source": [
    "err_train = np.average(misclassified, weights=sample_weight, axis=0)\n",
    "err_train = err_train/sample_weight_sum\n",
    "print \"Iteration#: 1\" \" Training_error: \", err_train    "
   ]
  },
  {
   "cell_type": "markdown",
   "metadata": {},
   "source": [
    "### Compute new alphas given error"
   ]
  },
  {
   "cell_type": "code",
   "execution_count": 75,
   "metadata": {
    "collapsed": true
   },
   "outputs": [],
   "source": [
    "alpha = np.log((1 - err_train)/err_train) + np.log(K - 1)\n"
   ]
  },
  {
   "cell_type": "markdown",
   "metadata": {},
   "source": [
    "### Update sample weights given alpha and normalize it"
   ]
  },
  {
   "cell_type": "code",
   "execution_count": 76,
   "metadata": {
    "collapsed": true
   },
   "outputs": [],
   "source": [
    "for i in range(n):\n",
    "    if misclassified[i]: \n",
    "        sample_weight[i] *= np.exp(alpha)            \n",
    "\n",
    "# Re-normalize weights\n",
    "sample_weight_sum = sample_weight.sum(dtype=np.float64)          \n",
    "sample_weight = sample_weight / sample_weight_sum\n"
   ]
  },
  {
   "cell_type": "markdown",
   "metadata": {},
   "source": [
    "### Run n iterations of AdaBoost"
   ]
  },
  {
   "cell_type": "code",
   "execution_count": 77,
   "metadata": {
    "collapsed": false
   },
   "outputs": [
    {
     "name": "stdout",
     "output_type": "stream",
     "text": [
      "Iteration#:  0  Training_error:  0.485485402816\n",
      "Iteration#:  1  Training_error:  0.191617890186\n",
      "Iteration#:  2  Training_error:  0.0753514962347\n",
      "Iteration#:  3  Training_error:  0.0201957735387\n",
      "Iteration#:  4  Training_error:  0.00902244705979\n",
      "Iteration#:  5  Training_error:  0.00205715461567\n",
      "Iteration#:  6  Training_error:  0.000186854815912\n",
      "Iteration#:  7  Training_error:  0.000140170233029\n",
      "Iteration#:  8  Training_error:  2.01682501807e-05\n",
      "Iteration#:  9  Training_error:  4.56990265033e-06\n"
     ]
    }
   ],
   "source": [
    "X = X_mnist_train_pca;    \n",
    "y = y_mnist_train;\n",
    "num_iterations = 10;\n",
    "n, _ = X.shape\n",
    "K = len(np.unique(y))\n",
    "    \n",
    "errors = np.zeros(num_iterations, dtype=np.float)\n",
    "    \n",
    "# Initialize weights to 1 / n_samples\n",
    "sample_weight = np.empty(X.shape[0], dtype=np.float)\n",
    "sample_weight[:] = 1. / X.shape[0]  \n",
    "sample_weight_sum = sample_weight.sum(dtype=np.float64)          \n",
    "\n",
    "max_depth = 1;\n",
    "\n",
    "for iteration in range(num_iterations):    \n",
    "    \n",
    "    decision_tree = DecisionTreeClassifier(max_depth=max_depth)\n",
    "\n",
    "    # Fit decision tree\n",
    "    decision_tree.fit(X, y, sample_weight=sample_weight)\n",
    "    y_pred = decision_tree.predict(X)\n",
    "        \n",
    "    # Find incorrectly classified samples.   \n",
    "    misclassified = (y_pred != y)\n",
    "        \n",
    "    # Error\n",
    "    err_train = np.average(misclassified, weights=sample_weight, axis=0)\n",
    "    err_train = err_train/sample_weight_sum\n",
    "    print \"Iteration#: \",iteration, \" Training_error: \", err_train    \n",
    "      \n",
    "    # Boost weight using AdaBoost SAMME algo\n",
    "    alpha = np.log((1 - err_train)/err_train) + np.log(K - 1)\n",
    "        \n",
    "    # Set sample weight\n",
    "    for i in range(n):\n",
    "        if misclassified[i]: \n",
    "            sample_weight[i] *= np.exp(alpha)            \n",
    "\n",
    "    # Re-normalize weights\n",
    "    sample_weight_sum = sample_weight.sum(dtype=np.float64)          \n",
    "    sample_weight = sample_weight / sample_weight_sum\n",
    "        \n",
    "    errors[iteration] = err_train  "
   ]
  },
  {
   "cell_type": "code",
   "execution_count": 78,
   "metadata": {
    "collapsed": false
   },
   "outputs": [
    {
     "data": {
      "image/png": "[encoded data removed]",
      "text/plain": [
       "<matplotlib.figure.Figure at 0x7f743bb15550>"
      ]
     },
     "metadata": {},
     "output_type": "display_data"
    }
   ],
   "source": [
    "err_plot = plt.plot(errors)\n",
    "plt.ylabel('Training Error');\n",
    "plt.xlabel('Iterations')\n",
    "plt.show()\n"
   ]
  },
  {
   "cell_type": "code",
   "execution_count": 79,
   "metadata": {
    "collapsed": false,
    "scrolled": true
   },
   "outputs": [
    {
     "name": "stdout",
     "output_type": "stream",
     "text": [
      "Iteration#:  0  Training_error:  0.0378246686212\n",
      "Iteration#:  1  Training_error:  0.0217115525265\n",
      "Iteration#:  2  Training_error:  0.00471869953728\n",
      "Iteration#:  3  Training_error:  0.000558602472076\n",
      "Iteration#:  4  Training_error:  3.25765565376e-05\n",
      "Iteration#:  5  Training_error:  1.13061754196e-05\n",
      "Iteration#:  6  Training_error:  1.74579751631e-06\n",
      "Iteration#:  7  Training_error:  4.23075693404e-07\n",
      "Iteration#:  8  Training_error:  3.59111856169e-08\n",
      "Iteration#:  9  Training_error:  7.89110150622e-10\n"
     ]
    }
   ],
   "source": [
    " \n",
    "errors_depth_10 = np.zeros(num_iterations, dtype=np.float)\n",
    "    \n",
    "# Initialize weights to 1 / n_samples\n",
    "sample_weight = np.empty(X.shape[0], dtype=np.float)\n",
    "sample_weight[:] = 1. / X.shape[0]  \n",
    "sample_weight_sum = sample_weight.sum(dtype=np.float64)          \n",
    "\n",
    "max_depth = 10;\n",
    "\n",
    "for iteration in range(num_iterations):    \n",
    "    \n",
    "    decision_tree = DecisionTreeClassifier(max_depth=max_depth)\n",
    "\n",
    "    # Fit decision tree\n",
    "    decision_tree.fit(X, y, sample_weight=sample_weight)\n",
    "    y_pred = decision_tree.predict(X)\n",
    "        \n",
    "    # Find incorrectly classified samples.   \n",
    "    misclassified = (y_pred != y)\n",
    "        \n",
    "    # Error\n",
    "    err_train = np.average(misclassified, weights=sample_weight, axis=0)\n",
    "    err_train = err_train/sample_weight_sum\n",
    "    print \"Iteration#: \",iteration, \" Training_error: \", err_train    \n",
    "      \n",
    "    # Boost weight using AdaBoost SAMME algo\n",
    "    alpha = np.log((1 - err_train)/err_train) + np.log(K - 1)\n",
    "        \n",
    "    # Set sample weight\n",
    "    for i in range(n):\n",
    "        if misclassified[i]: \n",
    "            sample_weight[i] *= np.exp(alpha)            \n",
    "\n",
    "    # Re-normalize weights\n",
    "    sample_weight_sum = sample_weight.sum(dtype=np.float64)          \n",
    "    sample_weight = sample_weight / sample_weight_sum\n",
    "        \n",
    "    errors_depth_10[iteration] = err_train  "
   ]
  },
  {
   "cell_type": "code",
   "execution_count": 80,
   "metadata": {
    "collapsed": false
   },
   "outputs": [
    {
     "data": {
      "image/png": "[encoded data removed]",
      "text/plain": [
       "<matplotlib.figure.Figure at 0x7f743bc7e5d0>"
      ]
     },
     "metadata": {},
     "output_type": "display_data"
    }
   ],
   "source": [
    "error1 = plt.plot(errors, label='Depth=1');\n",
    "error2 = plt.plot(errors_depth_10, label='Depth=10');\n",
    "plt.ylabel('Training Error');\n",
    "plt.xlabel('Iterations')\n",
    "plt.show()"
   ]
  },
  {
   "cell_type": "code",
   "execution_count": null,
   "metadata": {
    "collapsed": true
   },
   "outputs": [],
   "source": []
  }
 ],
 "metadata": {
  "kernelspec": {
   "display_name": "Python 2",
   "language": "python",
   "name": "python2"
  },
  "language_info": {
   "codemirror_mode": {
    "name": "ipython",
    "version": 2
   },
   "file_extension": ".py",
   "mimetype": "text/x-python",
   "name": "python",
   "nbconvert_exporter": "python",
   "pygments_lexer": "ipython2",
   "version": "2.7.11"
  }
 },
 "nbformat": 4,
 "nbformat_minor": 0
}
