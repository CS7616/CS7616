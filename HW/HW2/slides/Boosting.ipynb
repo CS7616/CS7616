{
 "cells": [
  {
   "cell_type": "markdown",
   "metadata": {},
   "source": [
    "# Boosting"
   ]
  },
  {
   "cell_type": "code",
   "execution_count": 1,
   "metadata": {
    "collapsed": false
   },
   "outputs": [],
   "source": [
    "# Imports\n",
    "import os\n",
    "import pandas as pd\n",
    "import numpy as np\n",
    "import matplotlib.pyplot as plt\n",
    "from sklearn.decomposition import PCA\n",
    "from sklearn.tree import DecisionTreeClassifier\n",
    "%matplotlib inline\n"
   ]
  },
  {
   "cell_type": "markdown",
   "metadata": {},
   "source": [
    "### Import MNIST Train and Test Data"
   ]
  },
  {
   "cell_type": "code",
   "execution_count": 3,
   "metadata": {
    "collapsed": false
   },
   "outputs": [
    {
     "data": {
      "text/plain": [
       "(24217, 784)"
      ]
     },
     "execution_count": 3,
     "metadata": {},
     "output_type": "execute_result"
    }
   ],
   "source": [
    "mnist_train_df = pd.read_csv('train.csv', header=None).T\n",
    "mnist_test_df = pd.read_csv('test.csv', header=None).T\n",
    "last_column = mnist_test_df.columns[-1]\n",
    "mnist_train_df.rename(columns={last_column:'Class'}, inplace=True)\n",
    "mnist_test_df.rename(columns={last_column:'Class'}, inplace=True)\n",
    "\n",
    "mnist_train_labels = mnist_train_df['Class']\n",
    "mnist_test_labels = mnist_test_df['Class']\n",
    "\n",
    "X_mnist_train = mnist_train_df.drop('Class',axis=1)\n",
    "y_mnist_train = mnist_train_labels\n",
    "\n",
    "X_mnist_test = mnist_test_df.drop('Class',axis=1)\n",
    "y_mnist_test = mnist_test_labels\n",
    "X_mnist_train.shape"
   ]
  },
  {
   "cell_type": "markdown",
   "metadata": {},
   "source": [
    "### Run PCA\n"
   ]
  },
  {
   "cell_type": "code",
   "execution_count": 4,
   "metadata": {
    "collapsed": false
   },
   "outputs": [],
   "source": [
    "pca = PCA(n_components=20)\n",
    "X_mnist_train_pca = pca.fit_transform(X_mnist_train)\n",
    "mnist_train_df_pca = pd.DataFrame(X_mnist_train_pca)\n",
    "mnist_train_df_pca['Class'] = y_mnist_train\n",
    "X_mnist_train_pca = mnist_train_df_pca.drop('Class',axis=1)\n",
    "\n",
    "\n",
    "X_mnist_test_pca = pca.fit_transform(X_mnist_test)\n",
    "mnist_test_df_pca = pd.DataFrame(X_mnist_test_pca)\n",
    "mnist_test_df_pca['Class'] = y_mnist_test\n",
    "X_mnist_test_pca = mnist_test_df_pca.drop('Class',axis=1)"
   ]
  },
  {
   "cell_type": "markdown",
   "metadata": {},
   "source": [
    "## Single iteration of AdaBoost"
   ]
  },
  {
   "cell_type": "code",
   "execution_count": 5,
   "metadata": {
    "collapsed": true
   },
   "outputs": [],
   "source": [
    "X = X_mnist_train_pca;    \n",
    "y = y_mnist_train;\n",
    "num_iterations = 10;\n",
    "n, _ = X.shape\n",
    "K = len(np.unique(y))"
   ]
  },
  {
   "cell_type": "markdown",
   "metadata": {},
   "source": [
    "### Initialize sample weights"
   ]
  },
  {
   "cell_type": "code",
   "execution_count": 6,
   "metadata": {
    "collapsed": true
   },
   "outputs": [],
   "source": [
    "sample_weight = np.empty(X.shape[0], dtype=np.float)\n",
    "sample_weight[:] = 1. / X.shape[0]  \n",
    "sample_weight_sum = sample_weight.sum(dtype=np.float64)          "
   ]
  },
  {
   "cell_type": "markdown",
   "metadata": {},
   "source": [
    "### Fit the decision tree"
   ]
  },
  {
   "cell_type": "code",
   "execution_count": 7,
   "metadata": {
    "collapsed": false
   },
   "outputs": [
    {
     "data": {
      "text/plain": [
       "DecisionTreeClassifier(class_weight=None, criterion='gini', max_depth=1,\n",
       "            max_features=None, max_leaf_nodes=None, min_samples_leaf=1,\n",
       "            min_samples_split=2, min_weight_fraction_leaf=0.0,\n",
       "            presort=False, random_state=None, splitter='best')"
      ]
     },
     "execution_count": 7,
     "metadata": {},
     "output_type": "execute_result"
    }
   ],
   "source": [
    "decision_tree = DecisionTreeClassifier(max_depth=1)\n",
    "decision_tree.fit(X, y, sample_weight=sample_weight)"
   ]
  },
  {
   "cell_type": "markdown",
   "metadata": {},
   "source": [
    "### Predict"
   ]
  },
  {
   "cell_type": "code",
   "execution_count": 8,
   "metadata": {
    "collapsed": true
   },
   "outputs": [],
   "source": [
    "y_pred = decision_tree.predict(X)"
   ]
  },
  {
   "cell_type": "markdown",
   "metadata": {},
   "source": [
    "### Find incorrectly classified samples.   "
   ]
  },
  {
   "cell_type": "code",
   "execution_count": 9,
   "metadata": {
    "collapsed": true
   },
   "outputs": [],
   "source": [
    "misclassified = (y_pred != y)"
   ]
  },
  {
   "cell_type": "markdown",
   "metadata": {},
   "source": [
    "### Compute Error"
   ]
  },
  {
   "cell_type": "code",
   "execution_count": 22,
   "metadata": {
    "collapsed": false
   },
   "outputs": [
    {
     "name": "stdout",
     "output_type": "stream",
     "text": [
      "Iteration#: 1 Per classifier error:  0.947368421053\n"
     ]
    }
   ],
   "source": [
    "err_train = np.average(misclassified, weights=sample_weight, axis=0)\n",
    "print \"Iteration#: 1\" \" Per classifier error: \", err_train    "
   ]
  },
  {
   "cell_type": "markdown",
   "metadata": {},
   "source": [
    "### Compute new alphas given error"
   ]
  },
  {
   "cell_type": "code",
   "execution_count": 11,
   "metadata": {
    "collapsed": true
   },
   "outputs": [],
   "source": [
    "alpha = np.log((1 - err_train)/err_train) + np.log(K - 1)\n"
   ]
  },
  {
   "cell_type": "markdown",
   "metadata": {},
   "source": [
    "### Update sample weights given alpha and normalize it"
   ]
  },
  {
   "cell_type": "code",
   "execution_count": 12,
   "metadata": {
    "collapsed": true
   },
   "outputs": [],
   "source": [
    "for i in range(n):\n",
    "    if misclassified[i]: \n",
    "        sample_weight[i] *= np.exp(alpha)            \n",
    "\n",
    "# Re-normalize weights\n",
    "sample_weight_sum = sample_weight.sum(dtype=np.float64)          \n",
    "sample_weight = sample_weight / sample_weight_sum\n"
   ]
  },
  {
   "cell_type": "markdown",
   "metadata": {},
   "source": [
    "### Run n iterations of AdaBoost"
   ]
  },
  {
   "cell_type": "code",
   "execution_count": 25,
   "metadata": {
    "collapsed": false
   },
   "outputs": [
    {
     "name": "stdout",
     "output_type": "stream",
     "text": [
      "Iteration#:  0  Per Classifier Error:  0.485485402816\n",
      "Iteration#:  1  Per Classifier Error:  0.394360806328\n",
      "Iteration#:  2  Per Classifier Error:  0.471177638217\n",
      "Iteration#:  3  Per Classifier Error:  0.50687307565\n",
      "Iteration#:  4  Per Classifier Error:  0.45095932391\n",
      "Iteration#:  5  Per Classifier Error:  0.481818679768\n",
      "Iteration#:  6  Per Classifier Error:  0.581243153824\n",
      "Iteration#:  7  Per Classifier Error:  0.575940849687\n",
      "Iteration#:  8  Per Classifier Error:  0.528114603845\n",
      "Iteration#:  9  Per Classifier Error:  0.566775605382\n"
     ]
    }
   ],
   "source": [
    "X = X_mnist_train_pca;    \n",
    "y = y_mnist_train;\n",
    "num_iterations = 10;\n",
    "n, _ = X.shape\n",
    "K = len(np.unique(y))\n",
    "    \n",
    "errors = np.zeros(num_iterations, dtype=np.float)\n",
    "    \n",
    "# Initialize weights to 1 / n_samples\n",
    "sample_weight = np.empty(X.shape[0], dtype=np.float)\n",
    "sample_weight[:] = 1. / X.shape[0]  \n",
    "sample_weight_sum = sample_weight.sum(dtype=np.float64)          \n",
    "\n",
    "max_depth = 1;\n",
    "\n",
    "for iteration in range(num_iterations):    \n",
    "    \n",
    "    decision_tree = DecisionTreeClassifier(max_depth=max_depth)\n",
    "\n",
    "    # Fit decision tree\n",
    "    decision_tree.fit(X, y, sample_weight=sample_weight)\n",
    "    y_pred = decision_tree.predict(X)\n",
    "        \n",
    "    # Find incorrectly classified samples.   \n",
    "    misclassified = (y_pred != y)\n",
    "        \n",
    "    # Error\n",
    "    err_train = np.average(misclassified, weights=sample_weight, axis=0)\n",
    "    print \"Iteration#: \",iteration, \" Per Classifier Error: \", err_train    \n",
    "      \n",
    "    # Boost weight using AdaBoost SAMME algo\n",
    "    alpha = np.log((1 - err_train)/err_train) + np.log(K - 1)\n",
    "        \n",
    "    # Set sample weight\n",
    "    for i in range(n):\n",
    "        if misclassified[i]: \n",
    "            sample_weight[i] *= np.exp(alpha)            \n",
    "\n",
    "    # Re-normalize weights\n",
    "    sample_weight_sum = sample_weight.sum(dtype=np.float64)          \n",
    "    sample_weight = sample_weight / sample_weight_sum\n",
    "        \n",
    "    errors[iteration] = err_train  "
   ]
  },
  {
   "cell_type": "code",
   "execution_count": 26,
   "metadata": {
    "collapsed": false
   },
   "outputs": [
    {
     "data": {
      "image/png": "[encoded data removed]",
      "text/plain": [
       "<matplotlib.figure.Figure at 0x7f9450f27bd0>"
      ]
     },
     "metadata": {},
     "output_type": "display_data"
    }
   ],
   "source": [
    "err_plot = plt.plot(errors)\n",
    "plt.ylabel('Per Classifier Error');\n",
    "plt.xlabel('Classifier#')\n",
    "plt.show()\n"
   ]
  },
  {
   "cell_type": "code",
   "execution_count": 27,
   "metadata": {
    "collapsed": false,
    "scrolled": true
   },
   "outputs": [
    {
     "name": "stdout",
     "output_type": "stream",
     "text": [
      "Iteration#:  0  Per Classifier Error:  0.0378246686212\n",
      "Iteration#:  1  Per Classifier Error:  0.0596913513092\n",
      "Iteration#:  2  Per Classifier Error:  0.0669017895121\n",
      "Iteration#:  3  Per Classifier Error:  0.0285799750723\n",
      "Iteration#:  4  Per Classifier Error:  0.091411318372\n",
      "Iteration#:  5  Per Classifier Error:  0.0446448024256\n",
      "Iteration#:  6  Per Classifier Error:  0.0808775799491\n",
      "Iteration#:  7  Per Classifier Error:  0.0469248688659\n",
      "Iteration#:  8  Per Classifier Error:  0.0264079975246\n",
      "Iteration#:  9  Per Classifier Error:  0.0447877139358\n"
     ]
    }
   ],
   "source": [
    " \n",
    "errors_depth_10 = np.zeros(num_iterations, dtype=np.float)\n",
    "    \n",
    "# Initialize weights to 1 / n_samples\n",
    "sample_weight = np.empty(X.shape[0], dtype=np.float)\n",
    "sample_weight[:] = 1. / X.shape[0]  \n",
    "sample_weight_sum = sample_weight.sum(dtype=np.float64)          \n",
    "\n",
    "max_depth = 10;\n",
    "\n",
    "for iteration in range(num_iterations):    \n",
    "    \n",
    "    decision_tree = DecisionTreeClassifier(max_depth=max_depth)\n",
    "\n",
    "    # Fit decision tree\n",
    "    decision_tree.fit(X, y, sample_weight=sample_weight)\n",
    "    y_pred = decision_tree.predict(X)\n",
    "        \n",
    "    # Find incorrectly classified samples.   \n",
    "    misclassified = (y_pred != y)\n",
    "        \n",
    "    # Error\n",
    "    err_train = np.average(misclassified, weights=sample_weight, axis=0)\n",
    "    print \"Iteration#: \",iteration, \" Per Classifier Error: \", err_train    \n",
    "      \n",
    "    # Boost weight using AdaBoost SAMME algo\n",
    "    alpha = np.log((1 - err_train)/err_train) + np.log(K - 1)\n",
    "        \n",
    "    # Set sample weight\n",
    "    for i in range(n):\n",
    "        if misclassified[i]: \n",
    "            sample_weight[i] *= np.exp(alpha)            \n",
    "\n",
    "    # Re-normalize weights\n",
    "    sample_weight_sum = sample_weight.sum(dtype=np.float64)          \n",
    "    sample_weight = sample_weight / sample_weight_sum\n",
    "        \n",
    "    errors_depth_10[iteration] = err_train  "
   ]
  },
  {
   "cell_type": "code",
   "execution_count": 28,
   "metadata": {
    "collapsed": false
   },
   "outputs": [
    {
     "data": {
      "image/png": "[encoded data removed]",
      "text/plain": [
       "<matplotlib.figure.Figure at 0x7f944ead3850>"
      ]
     },
     "metadata": {},
     "output_type": "display_data"
    }
   ],
   "source": [
    "error1 = plt.plot(errors, label='Depth=1');\n",
    "error2 = plt.plot(errors_depth_10, label='Depth=10');\n",
    "plt.ylabel('Per Classifier Error');\n",
    "plt.xlabel('Classifier#')\n",
    "plt.show()"
   ]
  },
  {
   "cell_type": "markdown",
   "metadata": {},
   "source": [
    "# Office dataset"
   ]
  },
  {
   "cell_type": "markdown",
   "metadata": {},
   "source": [
    "### Import Office Train and Test Data"
   ]
  },
  {
   "cell_type": "code",
   "execution_count": 32,
   "metadata": {
    "collapsed": false
   },
   "outputs": [],
   "source": [
    "office_train_df = pd.read_csv('office_train.csv', header=None)\n",
    "office_test_df = pd.read_csv('office_test.csv', header=None)\n",
    "label = office_test_df.columns[-1]\n",
    "segment = office_test_df.columns[-2]\n",
    "image = office_test_df.columns[-3]\n",
    "office_train_df.rename(columns={label:'Class', segment: 'Segment', image:'Image' }, inplace=True)\n",
    "office_test_df.rename(columns={label:'Class', segment: 'Segment', image:'Image'}, inplace=True)\n",
    "\n",
    "office_test_labels = office_test_df['Class']\n",
    "X_office_train = office_train_df.drop(['Class','Segment','Image'] ,axis=1)\n",
    "y_office_train  = office_train_df['Class']\n",
    "X_office_test = office_test_df.drop(['Class','Segment','Image'] ,axis=1)\n",
    "y_office_test  = office_test_df['Class']                              "
   ]
  },
  {
   "cell_type": "markdown",
   "metadata": {},
   "source": [
    "### Run PCA\n"
   ]
  },
  {
   "cell_type": "code",
   "execution_count": 33,
   "metadata": {
    "collapsed": false
   },
   "outputs": [],
   "source": [
    "pca = PCA(n_components=20)\n",
    "X_office_train_pca = pca.fit_transform(X_office_train)\n",
    "office_train_df_pca = pd.DataFrame(X_office_train_pca)\n",
    "office_train_df_pca['Class'] = y_office_train\n",
    "X_office_train_pca = office_train_df_pca.drop('Class',axis=1)\n",
    "\n",
    "\n",
    "X_office_test_pca = pca.fit_transform(X_office_test)\n",
    "office_test_df_pca = pd.DataFrame(X_office_test_pca)\n",
    "office_test_df_pca['Class'] = y_office_test\n",
    "X_office_test_pca = office_test_df_pca.drop('Class',axis=1)"
   ]
  },
  {
   "cell_type": "markdown",
   "metadata": {},
   "source": [
    "### Run n iterations of AdaBoost"
   ]
  },
  {
   "cell_type": "code",
   "execution_count": null,
   "metadata": {
    "collapsed": false
   },
   "outputs": [],
   "source": [
    "X = X_office_train_pca;    \n",
    "y = y_office_train;\n",
    "num_iterations = 10;\n",
    "n, _ = X.shape\n",
    "K = len(np.unique(y))\n",
    "    \n",
    "errors = np.zeros(num_iterations, dtype=np.float)\n",
    "\n",
    "# Initialize weights to 1 / n_samples\n",
    "sample_weight = np.empty(X.shape[0], dtype=np.float)\n",
    "sample_weight[:] = 1. / X.shape[0]  \n",
    "sample_weight_sum = sample_weight.sum(dtype=np.float64)          \n",
    "\n",
    "max_depth = 1;\n",
    "\n",
    "for iteration in range(num_iterations):    \n",
    "    \n",
    "    decision_tree = DecisionTreeClassifier(max_depth=max_depth)\n",
    "\n",
    "    # Fit decision tree\n",
    "    decision_tree.fit(X, y, sample_weight=sample_weight)\n",
    "    y_pred = decision_tree.predict(X)\n",
    "        \n",
    "    # Find incorrectly classified samples.   \n",
    "    misclassified = (y_pred != y)\n",
    "        \n",
    "    # Error\n",
    "    err_train = np.average(misclassified, weights=sample_weight, axis=0)\n",
    "    print \"Iteration#: \",iteration, \" Per Classifier Error: \", err_train\n",
    "    \n",
    "      \n",
    "    # Boost weight using AdaBoost SAMME algo\n",
    "    alpha = np.log((1 - err_train)/err_train) + np.log(K - 1)\n",
    "        \n",
    "    # Set sample weight\n",
    "    for i in range(n):\n",
    "        if misclassified[i]: \n",
    "            sample_weight[i] *= np.exp(alpha)            \n",
    "\n",
    "    # Re-normalize weights\n",
    "    sample_weight_sum = sample_weight.sum(dtype=np.float64)          \n",
    "    sample_weight = sample_weight / sample_weight_sum\n",
    "        \n",
    "    errors[iteration] = err_train  \n"
   ]
  },
  {
   "cell_type": "code",
   "execution_count": 36,
   "metadata": {
    "collapsed": false,
    "scrolled": true
   },
   "outputs": [
    {
     "name": "stdout",
     "output_type": "stream",
     "text": [
      " Iteration#:  0  Per Classifier Error:  0.333496005243\n",
      "Iteration#:  1  Per Classifier Error:  0.446355903643\n",
      "Iteration#:  2  Per Classifier Error:  0.523404601571\n",
      "Iteration#:  3  Per Classifier Error:  0.548269988383\n",
      "Iteration#:  4  Per Classifier Error:  0.554413900169\n",
      "Iteration#:  5  Per Classifier Error:  0.537084852309\n",
      "Iteration#:  6  Per Classifier Error:  0.528972376991\n",
      "Iteration#:  7  Per Classifier Error:  0.545798419931\n",
      "Iteration#:  8  Per Classifier Error:  0.558466581284\n",
      "Iteration#:  9  Per Classifier Error:  0.55993989738\n"
     ]
    }
   ],
   "source": [
    "errors_depth_10 = np.zeros(num_iterations, dtype=np.float)\n",
    "\n",
    "# Initialize weights to 1 / n_samples\n",
    "sample_weight = np.empty(X.shape[0], dtype=np.float)\n",
    "sample_weight[:] = 1. / X.shape[0]  \n",
    "sample_weight_sum = sample_weight.sum(dtype=np.float64)          \n",
    "\n",
    "max_depth = 10;\n",
    "\n",
    "for iteration in range(num_iterations):    \n",
    "    \n",
    "    decision_tree = DecisionTreeClassifier(max_depth=max_depth)\n",
    "\n",
    "    # Fit decision tree\n",
    "    decision_tree.fit(X, y, sample_weight=sample_weight)\n",
    "    y_pred = decision_tree.predict(X)\n",
    "        \n",
    "    # Find incorrectly classified samples.   \n",
    "    misclassified = (y_pred != y)\n",
    "        \n",
    "    # Error\n",
    "    err_train = np.average(misclassified, weights=sample_weight, axis=0)\n",
    "    print \"Iteration#: \",iteration, \" Per Classifier Error: \", err_train \n",
    "      \n",
    "    # Boost weight using AdaBoost SAMME algo\n",
    "    alpha = np.log((1 - err_train)/err_train) + np.log(K - 1)\n",
    "        \n",
    "    # Set sample weight\n",
    "    for i in range(n):\n",
    "        if misclassified[i]: \n",
    "            sample_weight[i] *= np.exp(alpha)            \n",
    "\n",
    "    # Re-normalize weights\n",
    "    sample_weight_sum = sample_weight.sum(dtype=np.float64)          \n",
    "    sample_weight = sample_weight / sample_weight_sum\n",
    "        \n",
    "    errors_depth_10[iteration] = err_train  \n"
   ]
  },
  {
   "cell_type": "code",
   "execution_count": 37,
   "metadata": {
    "collapsed": false
   },
   "outputs": [
    {
     "data": {
      "image/png": "[encoded data removed]",
      "text/plain": [
       "<matplotlib.figure.Figure at 0x7f944e952650>"
      ]
     },
     "metadata": {},
     "output_type": "display_data"
    }
   ],
   "source": [
    "error1 = plt.plot(errors, label='Depth=1');\n",
    "error2 = plt.plot(errors_depth_10, label='Depth=10');\n",
    "\n",
    "plt.ylabel('Per Classifier Error');\n",
    "plt.xlabel('Classifier#')\n",
    "plt.show()"
   ]
  },
  {
   "cell_type": "code",
   "execution_count": null,
   "metadata": {
    "collapsed": true
   },
   "outputs": [],
   "source": []
  }
 ],
 "metadata": {
  "kernelspec": {
   "display_name": "Python 2",
   "language": "python",
   "name": "python2"
  },
  "language_info": {
   "codemirror_mode": {
    "name": "ipython",
    "version": 2
   },
   "file_extension": ".py",
   "mimetype": "text/x-python",
   "name": "python",
   "nbconvert_exporter": "python",
   "pygments_lexer": "ipython2",
   "version": "2.7.11"
  }
 },
 "nbformat": 4,
 "nbformat_minor": 0
}
